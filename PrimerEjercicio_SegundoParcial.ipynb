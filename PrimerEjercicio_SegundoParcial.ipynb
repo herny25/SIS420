{
  "nbformat": 4,
  "nbformat_minor": 0,
  "metadata": {
    "colab": {
      "provenance": [],
      "authorship_tag": "ABX9TyPpxAU76TuGr0hcDWxQ0peG",
      "include_colab_link": true
    },
    "kernelspec": {
      "name": "python3",
      "display_name": "Python 3"
    },
    "language_info": {
      "name": "python"
    }
  },
  "cells": [
    {
      "cell_type": "markdown",
      "metadata": {
        "id": "view-in-github",
        "colab_type": "text"
      },
      "source": [
        "<a href=\"https://colab.research.google.com/github/herny25/SIS420/blob/main/PrimerEjercicio_SegundoParcial.ipynb\" target=\"_parent\"><img src=\"https://colab.research.google.com/assets/colab-badge.svg\" alt=\"Open In Colab\"/></a>"
      ]
    },
    {
      "cell_type": "code",
      "execution_count": 157,
      "metadata": {
        "id": "mr_7r6LtZFYo"
      },
      "outputs": [],
      "source": [
        "# utilizado para manejos de directorios y rutas\n",
        "import os\n",
        "\n",
        "# Computacion vectorial y cientifica para python\n",
        "import numpy as np\n",
        "\n",
        "# Librerias para graficación (trazado de gráficos)\n",
        "from matplotlib import pyplot\n",
        "from mpl_toolkits.mplot3d import Axes3D  # Necesario para graficar superficies 3D\n",
        "from scipy import optimize# llama a matplotlib a embeber graficas dentro de los cuadernillos\n",
        "%matplotlib inline"
      ]
    },
    {
      "cell_type": "code",
      "source": [
        "import pandas as pd\n",
        "from sklearn.preprocessing import LabelEncoder\n",
        "from datetime import datetime\n",
        "from sklearn.model_selection import train_test_split"
      ],
      "metadata": {
        "id": "p0iuj35LcJmo"
      },
      "execution_count": 158,
      "outputs": []
    },
    {
      "cell_type": "code",
      "source": [
        "#Carga de dataset\n",
        "data = pd.read_csv('heart_2020_cleaned.csv', header=0)"
      ],
      "metadata": {
        "id": "CA3Af7yPcNWy"
      },
      "execution_count": 159,
      "outputs": []
    },
    {
      "cell_type": "code",
      "source": [
        "\n",
        "# imprimimos el dataset\n",
        "print(data)"
      ],
      "metadata": {
        "colab": {
          "base_uri": "https://localhost:8080/",
          "height": 0
        },
        "id": "fOeY98czduk-",
        "outputId": "33814be6-ffca-413c-ec72-5efe79dd5127"
      },
      "execution_count": 160,
      "outputs": [
        {
          "output_type": "stream",
          "name": "stdout",
          "text": [
            "       HeartDisease    BMI Smoking AlcoholDrinking Stroke  PhysicalHealth  \\\n",
            "0                No  16.60     Yes              No     No             3.0   \n",
            "1                No  20.34      No              No    Yes             0.0   \n",
            "2                No  26.58     Yes              No     No            20.0   \n",
            "3                No  24.21      No              No     No             0.0   \n",
            "4                No  23.71      No              No     No            28.0   \n",
            "...             ...    ...     ...             ...    ...             ...   \n",
            "319790          Yes  27.41     Yes              No     No             7.0   \n",
            "319791           No  29.84     Yes              No     No             0.0   \n",
            "319792           No  24.24      No              No     No             0.0   \n",
            "319793           No  32.81      No              No     No             0.0   \n",
            "319794           No  46.56      No              No     No             0.0   \n",
            "\n",
            "        MentalHealth DiffWalking     Sex  AgeCategory      Race Diabetic  \\\n",
            "0               30.0          No  Female        55-59     White      Yes   \n",
            "1                0.0          No  Female  80 or older     White       No   \n",
            "2               30.0          No    Male        65-69     White      Yes   \n",
            "3                0.0          No  Female        75-79     White       No   \n",
            "4                0.0         Yes  Female        40-44     White       No   \n",
            "...              ...         ...     ...          ...       ...      ...   \n",
            "319790           0.0         Yes    Male        60-64  Hispanic      Yes   \n",
            "319791           0.0          No    Male        35-39  Hispanic       No   \n",
            "319792           0.0          No  Female        45-49  Hispanic       No   \n",
            "319793           0.0          No  Female        25-29  Hispanic       No   \n",
            "319794           0.0          No  Female  80 or older  Hispanic       No   \n",
            "\n",
            "       PhysicalActivity  GenHealth  SleepTime Asthma KidneyDisease SkinCancer  \n",
            "0                   Yes  Very good        5.0    Yes            No        Yes  \n",
            "1                   Yes  Very good        7.0     No            No         No  \n",
            "2                   Yes       Fair        8.0    Yes            No         No  \n",
            "3                    No       Good        6.0     No            No        Yes  \n",
            "4                   Yes  Very good        8.0     No            No         No  \n",
            "...                 ...        ...        ...    ...           ...        ...  \n",
            "319790               No       Fair        6.0    Yes            No         No  \n",
            "319791              Yes  Very good        5.0    Yes            No         No  \n",
            "319792              Yes       Good        6.0     No            No         No  \n",
            "319793               No       Good       12.0     No            No         No  \n",
            "319794              Yes       Good        8.0     No            No         No  \n",
            "\n",
            "[319795 rows x 18 columns]\n"
          ]
        }
      ]
    },
    {
      "cell_type": "code",
      "source": [
        "\n",
        "# observamos si faltan datos o tenemos string en los datos\n",
        "data.info()"
      ],
      "metadata": {
        "colab": {
          "base_uri": "https://localhost:8080/",
          "height": 0
        },
        "id": "HZv43DSNd5NT",
        "outputId": "5b011d5c-2989-4450-fccc-06f0dc17248b"
      },
      "execution_count": 161,
      "outputs": [
        {
          "output_type": "stream",
          "name": "stdout",
          "text": [
            "<class 'pandas.core.frame.DataFrame'>\n",
            "RangeIndex: 319795 entries, 0 to 319794\n",
            "Data columns (total 18 columns):\n",
            " #   Column            Non-Null Count   Dtype  \n",
            "---  ------            --------------   -----  \n",
            " 0   HeartDisease      319795 non-null  object \n",
            " 1   BMI               319795 non-null  float64\n",
            " 2   Smoking           319795 non-null  object \n",
            " 3   AlcoholDrinking   319795 non-null  object \n",
            " 4   Stroke            319795 non-null  object \n",
            " 5   PhysicalHealth    319795 non-null  float64\n",
            " 6   MentalHealth      319795 non-null  float64\n",
            " 7   DiffWalking       319795 non-null  object \n",
            " 8   Sex               319795 non-null  object \n",
            " 9   AgeCategory       319795 non-null  object \n",
            " 10  Race              319795 non-null  object \n",
            " 11  Diabetic          319795 non-null  object \n",
            " 12  PhysicalActivity  319795 non-null  object \n",
            " 13  GenHealth         319795 non-null  object \n",
            " 14  SleepTime         319795 non-null  float64\n",
            " 15  Asthma            319795 non-null  object \n",
            " 16  KidneyDisease     319795 non-null  object \n",
            " 17  SkinCancer        319795 non-null  object \n",
            "dtypes: float64(4), object(14)\n",
            "memory usage: 43.9+ MB\n"
          ]
        }
      ]
    },
    {
      "cell_type": "code",
      "source": [
        "\n",
        "# seleccionamos los datos string para cambiarlos a numericos\n",
        "columnas_categoricas = data.select_dtypes(include=['object']).columns"
      ],
      "metadata": {
        "id": "8fecpGO-eA6q"
      },
      "execution_count": 162,
      "outputs": []
    },
    {
      "cell_type": "code",
      "source": [
        "\n",
        "# iteramos y transformamos los object a int\n",
        "for columna in columnas_categoricas:\n",
        "  le = LabelEncoder()\n",
        "  data[columna] = le.fit_transform(data[columna])"
      ],
      "metadata": {
        "id": "ShtyfiIYeI66"
      },
      "execution_count": 163,
      "outputs": []
    },
    {
      "cell_type": "code",
      "source": [
        "\n",
        "# confirmamos tipos de datos\n",
        "data.info()"
      ],
      "metadata": {
        "colab": {
          "base_uri": "https://localhost:8080/",
          "height": 0
        },
        "id": "fpQcYeKwePXD",
        "outputId": "a8e5c259-1b24-4530-a95e-d81e6b138f6a"
      },
      "execution_count": 164,
      "outputs": [
        {
          "output_type": "stream",
          "name": "stdout",
          "text": [
            "<class 'pandas.core.frame.DataFrame'>\n",
            "RangeIndex: 319795 entries, 0 to 319794\n",
            "Data columns (total 18 columns):\n",
            " #   Column            Non-Null Count   Dtype  \n",
            "---  ------            --------------   -----  \n",
            " 0   HeartDisease      319795 non-null  int64  \n",
            " 1   BMI               319795 non-null  float64\n",
            " 2   Smoking           319795 non-null  int64  \n",
            " 3   AlcoholDrinking   319795 non-null  int64  \n",
            " 4   Stroke            319795 non-null  int64  \n",
            " 5   PhysicalHealth    319795 non-null  float64\n",
            " 6   MentalHealth      319795 non-null  float64\n",
            " 7   DiffWalking       319795 non-null  int64  \n",
            " 8   Sex               319795 non-null  int64  \n",
            " 9   AgeCategory       319795 non-null  int64  \n",
            " 10  Race              319795 non-null  int64  \n",
            " 11  Diabetic          319795 non-null  int64  \n",
            " 12  PhysicalActivity  319795 non-null  int64  \n",
            " 13  GenHealth         319795 non-null  int64  \n",
            " 14  SleepTime         319795 non-null  float64\n",
            " 15  Asthma            319795 non-null  int64  \n",
            " 16  KidneyDisease     319795 non-null  int64  \n",
            " 17  SkinCancer        319795 non-null  int64  \n",
            "dtypes: float64(4), int64(14)\n",
            "memory usage: 43.9 MB\n"
          ]
        }
      ]
    },
    {
      "cell_type": "code",
      "source": [
        "print(data)"
      ],
      "metadata": {
        "colab": {
          "base_uri": "https://localhost:8080/",
          "height": 0
        },
        "id": "e6TwF_XhsD0O",
        "outputId": "cc371bab-763a-419c-de30-526d018309d4"
      },
      "execution_count": 165,
      "outputs": [
        {
          "output_type": "stream",
          "name": "stdout",
          "text": [
            "        HeartDisease    BMI  Smoking  AlcoholDrinking  Stroke  PhysicalHealth  \\\n",
            "0                  0  16.60        1                0       0             3.0   \n",
            "1                  0  20.34        0                0       1             0.0   \n",
            "2                  0  26.58        1                0       0            20.0   \n",
            "3                  0  24.21        0                0       0             0.0   \n",
            "4                  0  23.71        0                0       0            28.0   \n",
            "...              ...    ...      ...              ...     ...             ...   \n",
            "319790             1  27.41        1                0       0             7.0   \n",
            "319791             0  29.84        1                0       0             0.0   \n",
            "319792             0  24.24        0                0       0             0.0   \n",
            "319793             0  32.81        0                0       0             0.0   \n",
            "319794             0  46.56        0                0       0             0.0   \n",
            "\n",
            "        MentalHealth  DiffWalking  Sex  AgeCategory  Race  Diabetic  \\\n",
            "0               30.0            0    0            7     5         2   \n",
            "1                0.0            0    0           12     5         0   \n",
            "2               30.0            0    1            9     5         2   \n",
            "3                0.0            0    0           11     5         0   \n",
            "4                0.0            1    0            4     5         0   \n",
            "...              ...          ...  ...          ...   ...       ...   \n",
            "319790           0.0            1    1            8     3         2   \n",
            "319791           0.0            0    1            3     3         0   \n",
            "319792           0.0            0    0            5     3         0   \n",
            "319793           0.0            0    0            1     3         0   \n",
            "319794           0.0            0    0           12     3         0   \n",
            "\n",
            "        PhysicalActivity  GenHealth  SleepTime  Asthma  KidneyDisease  \\\n",
            "0                      1          4        5.0       1              0   \n",
            "1                      1          4        7.0       0              0   \n",
            "2                      1          1        8.0       1              0   \n",
            "3                      0          2        6.0       0              0   \n",
            "4                      1          4        8.0       0              0   \n",
            "...                  ...        ...        ...     ...            ...   \n",
            "319790                 0          1        6.0       1              0   \n",
            "319791                 1          4        5.0       1              0   \n",
            "319792                 1          2        6.0       0              0   \n",
            "319793                 0          2       12.0       0              0   \n",
            "319794                 1          2        8.0       0              0   \n",
            "\n",
            "        SkinCancer  \n",
            "0                1  \n",
            "1                0  \n",
            "2                0  \n",
            "3                1  \n",
            "4                0  \n",
            "...            ...  \n",
            "319790           0  \n",
            "319791           0  \n",
            "319792           0  \n",
            "319793           0  \n",
            "319794           0  \n",
            "\n",
            "[319795 rows x 18 columns]\n"
          ]
        }
      ]
    },
    {
      "cell_type": "code",
      "source": [
        "print(data.columns)"
      ],
      "metadata": {
        "colab": {
          "base_uri": "https://localhost:8080/",
          "height": 0
        },
        "id": "C_6838aEehB1",
        "outputId": "f48f15b6-9a79-4ba3-f0ac-634fdebaa1ee"
      },
      "execution_count": 166,
      "outputs": [
        {
          "output_type": "stream",
          "name": "stdout",
          "text": [
            "Index(['HeartDisease', 'BMI', 'Smoking', 'AlcoholDrinking', 'Stroke',\n",
            "       'PhysicalHealth', 'MentalHealth', 'DiffWalking', 'Sex', 'AgeCategory',\n",
            "       'Race', 'Diabetic', 'PhysicalActivity', 'GenHealth', 'SleepTime',\n",
            "       'Asthma', 'KidneyDisease', 'SkinCancer'],\n",
            "      dtype='object')\n"
          ]
        }
      ]
    },
    {
      "cell_type": "code",
      "source": [
        "#llenar datos vacios\n",
        "vacios = ['BMI','PhysicalHealth', 'MentalHealth', 'SleepTime']\n",
        "media_columnas = data[vacios].mean()\n",
        "data[vacios] = data[vacios].fillna(media_columnas)"
      ],
      "metadata": {
        "id": "q0_TtX3mei-U"
      },
      "execution_count": 167,
      "outputs": []
    },
    {
      "cell_type": "code",
      "source": [
        "data.info()"
      ],
      "metadata": {
        "colab": {
          "base_uri": "https://localhost:8080/",
          "height": 0
        },
        "id": "-PzTJozifR1B",
        "outputId": "7f5fd50a-657b-4253-95a3-2603ace0c3c9"
      },
      "execution_count": 168,
      "outputs": [
        {
          "output_type": "stream",
          "name": "stdout",
          "text": [
            "<class 'pandas.core.frame.DataFrame'>\n",
            "RangeIndex: 319795 entries, 0 to 319794\n",
            "Data columns (total 18 columns):\n",
            " #   Column            Non-Null Count   Dtype  \n",
            "---  ------            --------------   -----  \n",
            " 0   HeartDisease      319795 non-null  int64  \n",
            " 1   BMI               319795 non-null  float64\n",
            " 2   Smoking           319795 non-null  int64  \n",
            " 3   AlcoholDrinking   319795 non-null  int64  \n",
            " 4   Stroke            319795 non-null  int64  \n",
            " 5   PhysicalHealth    319795 non-null  float64\n",
            " 6   MentalHealth      319795 non-null  float64\n",
            " 7   DiffWalking       319795 non-null  int64  \n",
            " 8   Sex               319795 non-null  int64  \n",
            " 9   AgeCategory       319795 non-null  int64  \n",
            " 10  Race              319795 non-null  int64  \n",
            " 11  Diabetic          319795 non-null  int64  \n",
            " 12  PhysicalActivity  319795 non-null  int64  \n",
            " 13  GenHealth         319795 non-null  int64  \n",
            " 14  SleepTime         319795 non-null  float64\n",
            " 15  Asthma            319795 non-null  int64  \n",
            " 16  KidneyDisease     319795 non-null  int64  \n",
            " 17  SkinCancer        319795 non-null  int64  \n",
            "dtypes: float64(4), int64(14)\n",
            "memory usage: 43.9 MB\n"
          ]
        }
      ]
    },
    {
      "cell_type": "code",
      "source": [
        "\n",
        "# seleccionamos los datos para X y y\n",
        "#columnas_seleccionadas = list(range(1, 17))\n",
        "X = data.iloc[:, 1:]\n",
        "y = data.iloc[:, 0]\n",
        "m = y.size"
      ],
      "metadata": {
        "id": "VrtxtJsEfUIK"
      },
      "execution_count": 169,
      "outputs": []
    },
    {
      "cell_type": "code",
      "source": [
        "print(X)\n",
        "print('*'*15)\n",
        "print(y)"
      ],
      "metadata": {
        "colab": {
          "base_uri": "https://localhost:8080/",
          "height": 0
        },
        "id": "pQHMfuq2flds",
        "outputId": "7a9f4751-eb6f-47d0-c9d6-7bc665954961"
      },
      "execution_count": 170,
      "outputs": [
        {
          "output_type": "stream",
          "name": "stdout",
          "text": [
            "          BMI  Smoking  AlcoholDrinking  Stroke  PhysicalHealth  MentalHealth  \\\n",
            "0       16.60        1                0       0             3.0          30.0   \n",
            "1       20.34        0                0       1             0.0           0.0   \n",
            "2       26.58        1                0       0            20.0          30.0   \n",
            "3       24.21        0                0       0             0.0           0.0   \n",
            "4       23.71        0                0       0            28.0           0.0   \n",
            "...       ...      ...              ...     ...             ...           ...   \n",
            "319790  27.41        1                0       0             7.0           0.0   \n",
            "319791  29.84        1                0       0             0.0           0.0   \n",
            "319792  24.24        0                0       0             0.0           0.0   \n",
            "319793  32.81        0                0       0             0.0           0.0   \n",
            "319794  46.56        0                0       0             0.0           0.0   \n",
            "\n",
            "        DiffWalking  Sex  AgeCategory  Race  Diabetic  PhysicalActivity  \\\n",
            "0                 0    0            7     5         2                 1   \n",
            "1                 0    0           12     5         0                 1   \n",
            "2                 0    1            9     5         2                 1   \n",
            "3                 0    0           11     5         0                 0   \n",
            "4                 1    0            4     5         0                 1   \n",
            "...             ...  ...          ...   ...       ...               ...   \n",
            "319790            1    1            8     3         2                 0   \n",
            "319791            0    1            3     3         0                 1   \n",
            "319792            0    0            5     3         0                 1   \n",
            "319793            0    0            1     3         0                 0   \n",
            "319794            0    0           12     3         0                 1   \n",
            "\n",
            "        GenHealth  SleepTime  Asthma  KidneyDisease  SkinCancer  \n",
            "0               4        5.0       1              0           1  \n",
            "1               4        7.0       0              0           0  \n",
            "2               1        8.0       1              0           0  \n",
            "3               2        6.0       0              0           1  \n",
            "4               4        8.0       0              0           0  \n",
            "...           ...        ...     ...            ...         ...  \n",
            "319790          1        6.0       1              0           0  \n",
            "319791          4        5.0       1              0           0  \n",
            "319792          2        6.0       0              0           0  \n",
            "319793          2       12.0       0              0           0  \n",
            "319794          2        8.0       0              0           0  \n",
            "\n",
            "[319795 rows x 17 columns]\n",
            "***************\n",
            "0         0\n",
            "1         0\n",
            "2         0\n",
            "3         0\n",
            "4         0\n",
            "         ..\n",
            "319790    1\n",
            "319791    0\n",
            "319792    0\n",
            "319793    0\n",
            "319794    0\n",
            "Name: HeartDisease, Length: 319795, dtype: int64\n"
          ]
        }
      ]
    },
    {
      "cell_type": "code",
      "source": [
        "def  featureNormalize(X):\n",
        "    X_norm = X.copy()\n",
        "    mu = np.zeros(X.shape[1])\n",
        "    sigma = np.zeros(X.shape[1])\n",
        "\n",
        "    mu = np.mean(X, axis = 0)\n",
        "    sigma = np.std(X, axis = 0)\n",
        "    X_norm = (X - mu) / sigma\n",
        "    \n",
        "    return X_norm, mu, sigma"
      ],
      "metadata": {
        "id": "MxH9Jtybfp9q"
      },
      "execution_count": 171,
      "outputs": []
    },
    {
      "cell_type": "code",
      "source": [
        "# llama featureNormalize con los datos cargados\n",
        "X_norm, mu, sigma = featureNormalize(X)\n",
        "\n",
        "print(X)\n",
        "print('Media calculada:', mu)\n",
        "print('Desviación estandar calculada:', sigma)\n",
        "print(X_norm)"
      ],
      "metadata": {
        "colab": {
          "base_uri": "https://localhost:8080/",
          "height": 0
        },
        "id": "6p4pS14Kfs6k",
        "outputId": "1fea1fc1-ce25-4bae-839b-b5313e48636e"
      },
      "execution_count": 172,
      "outputs": [
        {
          "output_type": "stream",
          "name": "stdout",
          "text": [
            "          BMI  Smoking  AlcoholDrinking  Stroke  PhysicalHealth  MentalHealth  \\\n",
            "0       16.60        1                0       0             3.0          30.0   \n",
            "1       20.34        0                0       1             0.0           0.0   \n",
            "2       26.58        1                0       0            20.0          30.0   \n",
            "3       24.21        0                0       0             0.0           0.0   \n",
            "4       23.71        0                0       0            28.0           0.0   \n",
            "...       ...      ...              ...     ...             ...           ...   \n",
            "319790  27.41        1                0       0             7.0           0.0   \n",
            "319791  29.84        1                0       0             0.0           0.0   \n",
            "319792  24.24        0                0       0             0.0           0.0   \n",
            "319793  32.81        0                0       0             0.0           0.0   \n",
            "319794  46.56        0                0       0             0.0           0.0   \n",
            "\n",
            "        DiffWalking  Sex  AgeCategory  Race  Diabetic  PhysicalActivity  \\\n",
            "0                 0    0            7     5         2                 1   \n",
            "1                 0    0           12     5         0                 1   \n",
            "2                 0    1            9     5         2                 1   \n",
            "3                 0    0           11     5         0                 0   \n",
            "4                 1    0            4     5         0                 1   \n",
            "...             ...  ...          ...   ...       ...               ...   \n",
            "319790            1    1            8     3         2                 0   \n",
            "319791            0    1            3     3         0                 1   \n",
            "319792            0    0            5     3         0                 1   \n",
            "319793            0    0            1     3         0                 0   \n",
            "319794            0    0           12     3         0                 1   \n",
            "\n",
            "        GenHealth  SleepTime  Asthma  KidneyDisease  SkinCancer  \n",
            "0               4        5.0       1              0           1  \n",
            "1               4        7.0       0              0           0  \n",
            "2               1        8.0       1              0           0  \n",
            "3               2        6.0       0              0           1  \n",
            "4               4        8.0       0              0           0  \n",
            "...           ...        ...     ...            ...         ...  \n",
            "319790          1        6.0       1              0           0  \n",
            "319791          4        5.0       1              0           0  \n",
            "319792          2        6.0       0              0           0  \n",
            "319793          2       12.0       0              0           0  \n",
            "319794          2        8.0       0              0           0  \n",
            "\n",
            "[319795 rows x 17 columns]\n",
            "Media calculada: BMI                 28.325399\n",
            "Smoking              0.412477\n",
            "AlcoholDrinking      0.068097\n",
            "Stroke               0.037740\n",
            "PhysicalHealth       3.371710\n",
            "MentalHealth         3.898366\n",
            "DiffWalking          0.138870\n",
            "Sex                  0.475273\n",
            "AgeCategory          6.514536\n",
            "Race                 4.396742\n",
            "Diabetic             0.300386\n",
            "PhysicalActivity     0.775362\n",
            "GenHealth            2.220904\n",
            "SleepTime            7.097075\n",
            "Asthma               0.134061\n",
            "KidneyDisease        0.036833\n",
            "SkinCancer           0.093244\n",
            "dtype: float64\n",
            "Desviación estandar calculada: BMI                 6.356090\n",
            "Smoking             0.492280\n",
            "AlcoholDrinking     0.251912\n",
            "Stroke              0.190566\n",
            "PhysicalHealth      7.950838\n",
            "MentalHealth        7.955223\n",
            "DiffWalking         0.345811\n",
            "Sex                 0.499388\n",
            "AgeCategory         3.564754\n",
            "Race                1.212206\n",
            "Diabetic            0.716479\n",
            "PhysicalActivity    0.417343\n",
            "GenHealth           1.534645\n",
            "SleepTime           1.436005\n",
            "Asthma              0.340718\n",
            "KidneyDisease       0.188352\n",
            "SkinCancer          0.290774\n",
            "dtype: float64\n",
            "             BMI   Smoking  AlcoholDrinking    Stroke  PhysicalHealth  \\\n",
            "0      -1.844750  1.193474         -0.27032 -0.198040       -0.046751   \n",
            "1      -1.256338 -0.837890         -0.27032  5.049478       -0.424070   \n",
            "2      -0.274603  1.193474         -0.27032 -0.198040        2.091388   \n",
            "3      -0.647473 -0.837890         -0.27032 -0.198040       -0.424070   \n",
            "4      -0.726138 -0.837890         -0.27032 -0.198040        3.097572   \n",
            "...          ...       ...              ...       ...             ...   \n",
            "319790 -0.144019  1.193474         -0.27032 -0.198040        0.456341   \n",
            "319791  0.238291  1.193474         -0.27032 -0.198040       -0.424070   \n",
            "319792 -0.642753 -0.837890         -0.27032 -0.198040       -0.424070   \n",
            "319793  0.705560 -0.837890         -0.27032 -0.198040       -0.424070   \n",
            "319794  2.868839 -0.837890         -0.27032 -0.198040       -0.424070   \n",
            "\n",
            "        MentalHealth  DiffWalking       Sex  AgeCategory      Race  Diabetic  \\\n",
            "0           3.281069    -0.401578 -0.951711     0.136184  0.497653  2.372175   \n",
            "1          -0.490039    -0.401578 -0.951711     1.538806  0.497653 -0.419253   \n",
            "2           3.281069    -0.401578  1.050739     0.697233  0.497653  2.372175   \n",
            "3          -0.490039    -0.401578 -0.951711     1.258282  0.497653 -0.419253   \n",
            "4          -0.490039     2.490174 -0.951711    -0.705388  0.497653 -0.419253   \n",
            "...              ...          ...       ...          ...       ...       ...   \n",
            "319790     -0.490039     2.490174  1.050739     0.416709 -1.152231  2.372175   \n",
            "319791     -0.490039    -0.401578  1.050739    -0.985913 -1.152231 -0.419253   \n",
            "319792     -0.490039    -0.401578 -0.951711    -0.424864 -1.152231 -0.419253   \n",
            "319793     -0.490039    -0.401578 -0.951711    -1.546961 -1.152231 -0.419253   \n",
            "319794     -0.490039    -0.401578 -0.951711     1.538806 -1.152231 -0.419253   \n",
            "\n",
            "        PhysicalActivity  GenHealth  SleepTime    Asthma  KidneyDisease  \\\n",
            "0               0.538256   1.159288  -1.460354  2.541515      -0.195554   \n",
            "1               0.538256   1.159288  -0.067601 -0.393466      -0.195554   \n",
            "2               0.538256  -0.795561   0.628776  2.541515      -0.195554   \n",
            "3              -1.857852  -0.143945  -0.763977 -0.393466      -0.195554   \n",
            "4               0.538256   1.159288   0.628776 -0.393466      -0.195554   \n",
            "...                  ...        ...        ...       ...            ...   \n",
            "319790         -1.857852  -0.795561  -0.763977  2.541515      -0.195554   \n",
            "319791          0.538256   1.159288  -1.460354  2.541515      -0.195554   \n",
            "319792          0.538256  -0.143945  -0.763977 -0.393466      -0.195554   \n",
            "319793         -1.857852  -0.143945   3.414282 -0.393466      -0.195554   \n",
            "319794          0.538256  -0.143945   0.628776 -0.393466      -0.195554   \n",
            "\n",
            "        SkinCancer  \n",
            "0         3.118419  \n",
            "1        -0.320675  \n",
            "2        -0.320675  \n",
            "3         3.118419  \n",
            "4        -0.320675  \n",
            "...            ...  \n",
            "319790   -0.320675  \n",
            "319791   -0.320675  \n",
            "319792   -0.320675  \n",
            "319793   -0.320675  \n",
            "319794   -0.320675  \n",
            "\n",
            "[319795 rows x 17 columns]\n"
          ]
        }
      ]
    },
    {
      "cell_type": "code",
      "source": [
        "X_array = [0,0,0,3,3,0,0,6,4,0,0,2,7,0,0,0,1,1]\n",
        "X_array[1:18] = (X_array[1:18] - mu) / sigma"
      ],
      "metadata": {
        "id": "glBW9TNmfvBO"
      },
      "execution_count": 173,
      "outputs": []
    },
    {
      "cell_type": "code",
      "source": [
        "def sigmoid(z):\n",
        "    # Calcula la sigmoide de una entrada z\n",
        "    # convierte la intrada a un arreglo numpy\n",
        "    z = np.array(z)\n",
        "  \n",
        "    g = np.zeros(z.shape)\n",
        "\n",
        "    g = 1 / (1 + np.exp(-z))\n",
        "\n",
        "    return g"
      ],
      "metadata": {
        "id": "0ewOpkLIk0R1"
      },
      "execution_count": 174,
      "outputs": []
    },
    {
      "cell_type": "code",
      "source": [
        "# Prueba la implementacion de la funcion sigmoid\n",
        "z = 0\n",
        "g = sigmoid(z)\n",
        "\n",
        "print('g(', z, ') = ', g)"
      ],
      "metadata": {
        "colab": {
          "base_uri": "https://localhost:8080/",
          "height": 0
        },
        "id": "crqVxpHff0wO",
        "outputId": "3c7727c5-7171-457c-eaf5-18b75e1fcdfa"
      },
      "execution_count": 175,
      "outputs": [
        {
          "output_type": "stream",
          "name": "stdout",
          "text": [
            "g( 0 ) =  0.5\n"
          ]
        }
      ]
    },
    {
      "cell_type": "code",
      "source": [
        "# Configurar la matriz adecuadamente, y agregar una columna de unos que corresponde al termino de intercepción. \n",
        "m, n = X.shape\n",
        "# Agraga el termino de intercepción a A\n",
        "X = np.concatenate([np.ones((m, 1)), X_norm], axis=1)"
      ],
      "metadata": {
        "id": "VIs9NpP-f2He"
      },
      "execution_count": 176,
      "outputs": []
    },
    {
      "cell_type": "code",
      "source": [
        "def calcularCosto(theta, X, y):\n",
        "    # Inicializar algunos valores utiles\n",
        "    m = y.size  # numero de ejemplos de entrenamiento\n",
        "    #epsilon = 1e-8\n",
        "\n",
        "    J = 0\n",
        "    h = sigmoid(X.dot(theta.T))\n",
        "    J = (1 / m) * np.sum(-y.dot(np.log(h)) - (1 - y).dot(np.log(1 - h)))\n",
        "    \n",
        "    return J"
      ],
      "metadata": {
        "id": "LjJsFGdbf50e"
      },
      "execution_count": 177,
      "outputs": []
    },
    {
      "cell_type": "code",
      "source": [
        "def descensoGradiente(theta, X, y, alpha, num_iters):\n",
        "    # Inicializa algunos valores\n",
        "    m = y.shape[0] # numero de ejemplos de entrenamiento\n",
        "    \n",
        "    # realiza una copia de theta, el cual será acutalizada por el descenso por el gradiente\n",
        "    theta = theta.copy()\n",
        "    J_history = []\n",
        "    \n",
        "    for i in range(num_iters):\n",
        "        h = sigmoid(X.dot(theta.T))\n",
        "        theta = theta - (alpha / m) * (h - y).dot(X)\n",
        "       \n",
        "        J_history.append(calcularCosto(theta, X, y))\n",
        "    return theta, J_history"
      ],
      "metadata": {
        "id": "9xYbqZl7f86K"
      },
      "execution_count": 178,
      "outputs": []
    },
    {
      "cell_type": "code",
      "source": [
        "# Elegir algun valor para alpha (probar varias alternativas)\n",
        "alpha = 0.007\n",
        "num_iters = 3000\n",
        "\n",
        "# inicializa theta y ejecuta el descenso por el gradiente\n",
        "theta = np.zeros(18)\n",
        "theta, J_history = descensoGradiente(theta, X, y, alpha, num_iters)\n",
        "\n",
        "# Grafica la convergencia del costo\n",
        "pyplot.plot(np.arange(len(J_history)), J_history, lw=2)\n",
        "pyplot.xlabel('Numero de iteraciones')\n",
        "pyplot.ylabel('Costo J')\n",
        "\n",
        "# Muestra los resultados del descenso por el gradiente\n",
        "print('theta calculado por el descenso por el gradiente: {:s}'.format(str(theta)))\n",
        "\n",
        "# verificar si ingresa o no a la universidad\n",
        "X_array = [0,0,0,3,3,0,0,6,4,0,0,2,7,0,0,0,1,1]\n",
        "aprueba = sigmoid(np.dot(X_array, theta))   # Se debe cambiar esto\n",
        "\n",
        "print('El valor predecido de tener una enfermedad cardiaca es(usando el descenso por el gradiente):{:.0f}'.format(aprueba))"
      ],
      "metadata": {
        "colab": {
          "base_uri": "https://localhost:8080/",
          "height": 338
        },
        "id": "0q9LiEYhlFGS",
        "outputId": "4092bec8-1f5d-472f-8f9c-02d02704f062"
      },
      "execution_count": 181,
      "outputs": [
        {
          "output_type": "stream",
          "name": "stdout",
          "text": [
            "theta calculado por el descenso por el gradiente: [-2.27432409  0.0233045   0.13346543 -0.04322836  0.20049056  0.13486276\n",
            "  0.01435268  0.15006689  0.19261264  0.39881007  0.04143913  0.17587369\n",
            " -0.04759127 -0.01959227 -0.00259739  0.05368957  0.12416686  0.0730621 ]\n",
            "El valor predecido de tener una enfermedad cardiaca es(usando el descenso por el gradiente):1\n"
          ]
        },
        {
          "output_type": "display_data",
          "data": {
            "text/plain": [
              "<Figure size 640x480 with 1 Axes>"
            ],
            "image/png": "[encoded data removed]"
          },
          "metadata": {}
        }
      ]
    },
    {
      "cell_type": "code",
      "source": [
        "def costFunction(theta, X, y):\n",
        "    # Inicializar algunos valores utiles\n",
        "    m = y.size  # numero de ejemplos de entrenamiento\n",
        "    epsilon = 1e-8\n",
        "\n",
        "    J = 0\n",
        "    grad = np.zeros(theta.shape)\n",
        "\n",
        "    h = sigmoid(X.dot(theta.T))\n",
        "    \n",
        "    J = (1 / m) * np.sum(-y.dot(np.log(h+epsilon)) - (1 - y).dot(np.log(1 - h+epsilon)))\n",
        "    grad = (1 / m) * (h - y).dot(X)\n",
        "    \n",
        "    return J, grad"
      ],
      "metadata": {
        "id": "lvGrerVbmQxP"
      },
      "execution_count": 194,
      "outputs": []
    },
    {
      "cell_type": "code",
      "source": [
        "# Inicializacion de parametros de ajuste\n",
        "initial_theta = np.zeros(n+1)\n",
        "print(initial_theta)\n",
        "cost, grad = costFunction(initial_theta, X, y)\n",
        "\n",
        "print('Costo en theta inicial (zeros): {:.3f}'.format(cost))\n",
        "print(grad)\n",
        "print('Gradiente en theta inicial (zeros):')\n",
        "print('\\t[{:.4f}, {:.4f}, {:.4f}]'.format(*grad))"
      ],
      "metadata": {
        "colab": {
          "base_uri": "https://localhost:8080/",
          "height": 0
        },
        "id": "Spx3IkcgmcV6",
        "outputId": "93091fae-decd-4de3-85d3-e0e7810df5a9"
      },
      "execution_count": 195,
      "outputs": [
        {
          "output_type": "stream",
          "name": "stdout",
          "text": [
            "[0. 0. 0. 0. 0. 0. 0. 0. 0. 0. 0. 0. 0. 0. 0. 0. 0. 0.]\n",
            "Costo en theta inicial (zeros): 0.693\n",
            "[ 0.41440454 -0.01449276 -0.03014872  0.00897481 -0.05506778 -0.04776188\n",
            " -0.0079987  -0.05630511 -0.01959493 -0.06530635 -0.00975085 -0.04715531\n",
            "  0.02798495  0.00309473 -0.00232951 -0.01159465 -0.04062118 -0.02610687]\n",
            "Gradiente en theta inicial (zeros):\n",
            "\t[0.4144, -0.0145, -0.0301]\n"
          ]
        }
      ]
    },
    {
      "cell_type": "code",
      "source": [
        "# Calcula y muestra el costo y el gradiente con valores de theta diferentes a cero\n",
        "\n",
        "test_theta = ([0.41440454, -0.01449276, -0.03014872,  0.00897481, -0.05506778, -0.04776188,  -0.0079987,  -0.05630511, -0.01959493, -0.06530635, -0.00975085, -0.04715531, 0.02798495,  0.00309473, -0.00232951, -0.01159465, -0.04062118, -0.02610687])\n",
        "#test_theta = np.array([-11.74749157, 0.09927308, 0.09316497])\n",
        "print(test_theta)\n",
        "cost, grad = costFunction(test_theta, X, y)\n",
        "\n",
        "print('Costo en theta prueba: {:.3f}'.format(cost))\n",
        "print('Costo esperado (aproximado): 0.218\\n')\n",
        "\n",
        "print('Gradiente en theta prueba:')\n",
        "print('\\t[{:.3f}, {:.3f}, {:.3f}]'.format(*grad))\n",
        "print('Gradiente esperado (aproximado):\\n\\t[0.043, 2.566, 2.647]')"
      ],
      "metadata": {
        "colab": {
          "base_uri": "https://localhost:8080/",
          "height": 602
        },
        "id": "IndBuKD3mfiK",
        "outputId": "720f5665-8347-4f12-e89e-f40971ac07bd"
      },
      "execution_count": 193,
      "outputs": [
        {
          "output_type": "stream",
          "name": "stdout",
          "text": [
            "[0.41440454, -0.01449276, -0.03014872, 0.00897481, -0.05506778, -0.04776188, -0.0079987, -0.05630511, -0.01959493, -0.06530635, -0.00975085, -0.04715531, 0.02798495, 0.00309473, -0.00232951, -0.01159465, -0.04062118, -0.02610687]\n"
          ]
        },
        {
          "output_type": "error",
          "ename": "AttributeError",
          "evalue": "ignored",
          "traceback": [
            "\u001b[0;31m---------------------------------------------------------------------------\u001b[0m",
            "\u001b[0;31mAttributeError\u001b[0m                            Traceback (most recent call last)",
            "\u001b[0;32m<ipython-input-193-a3859a9e054e>\u001b[0m in \u001b[0;36m<cell line: 6>\u001b[0;34m()\u001b[0m\n\u001b[1;32m      4\u001b[0m \u001b[0;31m#test_theta = np.array([-11.74749157, 0.09927308, 0.09316497])\u001b[0m\u001b[0;34m\u001b[0m\u001b[0;34m\u001b[0m\u001b[0m\n\u001b[1;32m      5\u001b[0m \u001b[0mprint\u001b[0m\u001b[0;34m(\u001b[0m\u001b[0mtest_theta\u001b[0m\u001b[0;34m)\u001b[0m\u001b[0;34m\u001b[0m\u001b[0;34m\u001b[0m\u001b[0m\n\u001b[0;32m----> 6\u001b[0;31m \u001b[0mcost\u001b[0m\u001b[0;34m,\u001b[0m \u001b[0mgrad\u001b[0m \u001b[0;34m=\u001b[0m \u001b[0mcostFunction\u001b[0m\u001b[0;34m(\u001b[0m\u001b[0mtest_theta\u001b[0m\u001b[0;34m,\u001b[0m \u001b[0mX\u001b[0m\u001b[0;34m,\u001b[0m \u001b[0my\u001b[0m\u001b[0;34m)\u001b[0m\u001b[0;34m\u001b[0m\u001b[0;34m\u001b[0m\u001b[0m\n\u001b[0m\u001b[1;32m      7\u001b[0m \u001b[0;34m\u001b[0m\u001b[0m\n\u001b[1;32m      8\u001b[0m \u001b[0mprint\u001b[0m\u001b[0;34m(\u001b[0m\u001b[0;34m'Costo en theta prueba: {:.3f}'\u001b[0m\u001b[0;34m.\u001b[0m\u001b[0mformat\u001b[0m\u001b[0;34m(\u001b[0m\u001b[0mcost\u001b[0m\u001b[0;34m)\u001b[0m\u001b[0;34m)\u001b[0m\u001b[0;34m\u001b[0m\u001b[0;34m\u001b[0m\u001b[0m\n",
            "\u001b[0;32m<ipython-input-188-676b4aeb63a3>\u001b[0m in \u001b[0;36mcostFunction\u001b[0;34m(theta, X, y)\u001b[0m\n\u001b[1;32m      5\u001b[0m \u001b[0;34m\u001b[0m\u001b[0m\n\u001b[1;32m      6\u001b[0m     \u001b[0mJ\u001b[0m \u001b[0;34m=\u001b[0m \u001b[0;36m0\u001b[0m\u001b[0;34m\u001b[0m\u001b[0;34m\u001b[0m\u001b[0m\n\u001b[0;32m----> 7\u001b[0;31m     \u001b[0mgrad\u001b[0m \u001b[0;34m=\u001b[0m \u001b[0mnp\u001b[0m\u001b[0;34m.\u001b[0m\u001b[0mzeros\u001b[0m\u001b[0;34m(\u001b[0m\u001b[0mtheta\u001b[0m\u001b[0;34m.\u001b[0m\u001b[0mshape\u001b[0m\u001b[0;34m)\u001b[0m\u001b[0;34m\u001b[0m\u001b[0;34m\u001b[0m\u001b[0m\n\u001b[0m\u001b[1;32m      8\u001b[0m \u001b[0;34m\u001b[0m\u001b[0m\n\u001b[1;32m      9\u001b[0m     \u001b[0mh\u001b[0m \u001b[0;34m=\u001b[0m \u001b[0msigmoid\u001b[0m\u001b[0;34m(\u001b[0m\u001b[0mX\u001b[0m\u001b[0;34m.\u001b[0m\u001b[0mdot\u001b[0m\u001b[0;34m(\u001b[0m\u001b[0mtheta\u001b[0m\u001b[0;34m.\u001b[0m\u001b[0mT\u001b[0m\u001b[0;34m)\u001b[0m\u001b[0;34m)\u001b[0m\u001b[0;34m\u001b[0m\u001b[0;34m\u001b[0m\u001b[0m\n",
            "\u001b[0;31mAttributeError\u001b[0m: 'list' object has no attribute 'shape'"
          ]
        }
      ]
    },
    {
      "cell_type": "code",
      "source": [
        "# Establecer las opciones para optimize.minimize\n",
        "options= {'maxiter': 1000}\n",
        "\n",
        "# revisar la documentacion de scipy's optimize.minimize para mayor descripcion de los parametros\n",
        "# La funcion devuekve un objeto `OptimizeResult`\n",
        "# Se utiliza el algoritmo de Newton truncado para la optimización.\n",
        "res = optimize.minimize(costFunction,\n",
        "                        initial_theta,\n",
        "                        (X, y),\n",
        "                        jac=True,\n",
        "                        method='TNC',\n",
        "                        options=options)\n",
        "\n",
        "# la propiedad fun del objeto devuelto por `OptimizeResult`\n",
        "# contiene el valor del costFunction de un theta optimizado\n",
        "cost = res.fun\n",
        "\n",
        "# Theta optimizada esta en la propiedad x\n",
        "theta = res.x\n",
        "\n",
        "# Imprimir theta en la pantalla\n",
        "print('Costo con un valor de theta encontrado por optimize.minimize: {:.3f}'.format(cost))\n",
        "print('Costo esperado (aproximado): 0.203\\n');\n",
        "\n",
        "print('theta:')\n",
        "print('\\t[{:.3f}, {:.3f}, {:.3f}]'.format(*theta))\n",
        "print('Theta esperado (aproximado):\\n\\t[-25.161, 0.206, 0.201]')"
      ],
      "metadata": {
        "colab": {
          "base_uri": "https://localhost:8080/",
          "height": 0
        },
        "id": "dDfxbShboBa1",
        "outputId": "de42fd69-43c4-4b70-8a5e-6821e42cbfe8"
      },
      "execution_count": 196,
      "outputs": [
        {
          "output_type": "stream",
          "name": "stderr",
          "text": [
            "<ipython-input-196-0dfcfa2e2ef1>:7: DeprecationWarning: 'maxiter' has been deprecated in favor of 'maxfun' and will be removed in SciPy 1.11.0.\n",
            "  res = optimize.minimize(costFunction,\n"
          ]
        },
        {
          "output_type": "stream",
          "name": "stdout",
          "text": [
            "Costo con un valor de theta encontrado por optimize.minimize: 0.233\n",
            "Costo esperado (aproximado): 0.203\n",
            "\n",
            "theta:\n",
            "\t[-3.065, 0.093, 0.216]\n",
            "Theta esperado (aproximado):\n",
            "\t[-25.161, 0.206, 0.201]\n"
          ]
        }
      ]
    },
    {
      "cell_type": "code",
      "source": [
        "def plotDecisionBoundary(plotData, theta, X, y):\n",
        "    \"\"\"\n",
        "    Grafica los puntos X y Y en una nueva figura con un limite de desicion definido por theta.\n",
        "    the data points X and y into a new figure with the decision boundary defined by theta.\n",
        "    Grafica los puntos con * para los ejemplos positivos y con o para los ejemplos negativos.\n",
        "    \n",
        "    Parametros:\n",
        "    ----------\n",
        "    plotData : func\n",
        "        A function reference for plotting the X, y data.\n",
        "\n",
        "    theta : array_like\n",
        "        Parametros para la regresion logistica. Un vecto de la forma (n+1, ).\n",
        "\n",
        "    X : array_like\n",
        "        Data set de entrada. Se supone que X es una de las siguientes:\n",
        "            1) Matriz Mx3, donde la primera columna es una columna de unos para intercepción.\n",
        "            2) Matriz MxN, N> 3, donde la primera columna son todos unos.\n",
        "\n",
        "    y : array_like\n",
        "        Vector de datos de etiquetas de la forma (m, ).\n",
        "    \"\"\"\n",
        "    # hacer que theta sera un arreglo numpy\n",
        "    theta = np.array(theta)\n",
        "\n",
        "    # Graficar los datos (recordar que la primera columna en X es la intercepción)\n",
        "    plotData(X[:, 1:7], y)\n",
        "\n",
        "    if X.shape[1] <= 7:\n",
        "        # Solo se requieren 2 puntos para definir una linea, para lo cual se eligen dos puntos finales\n",
        "        plot_x = np.array([np.min(X[:, 1]) - 2, np.max(X[:, 1]) + 2])\n",
        "\n",
        "        # Calcular la línea límite de decisión\n",
        "        plot_y = (-1. / theta[2]) * (theta[1] * plot_x + theta[0])\n",
        "\n",
        "        print(plot_x)\n",
        "        print(plot_y)\n",
        "        # Graficar y ajustar los ejes para una mejor visualización\n",
        "        pyplot.plot(plot_x, plot_y)\n",
        "\n",
        "        # Leyenda, especifica para el ejercicio\n",
        "        pyplot.legend(['Admitido', 'No admitido', 'Limite de decisión'])\n",
        "        pyplot.xlim([30, 100])\n",
        "        pyplot.ylim([30, 100])\n",
        "    else:\n",
        "        # Rango de la grilla\n",
        "        u = np.linspace(-1, 1.5, 50)\n",
        "        v = np.linspace(-1, 1.5, 50)\n",
        "\n",
        "        z = np.zeros((u.size, v.size))\n",
        "        # Evalua z = theta*x sobre la grilla\n",
        "        for i, ui in enumerate(u):\n",
        "            for j, vj in enumerate(v):\n",
        "                z[i, j] = np.dot(mapFeature(ui, vj), theta)\n",
        "\n",
        "        z = z.T  # importante transponer z antes de llamar al contorno\n",
        "        # print(z)\n",
        "\n",
        "        # Plot z = 0\n",
        "        pyplot.contour(u, v, z, levels=[0], linewidths=2, colors='g')\n",
        "        pyplot.contourf(u, v, z, levels=[np.min(z), 0, np.max(z)], cmap='Greens', alpha=0.4)"
      ],
      "metadata": {
        "id": "mHdRyzQwoPRT"
      },
      "execution_count": 197,
      "outputs": []
    },
    {
      "cell_type": "code",
      "source": [
        "def predict(theta, X):\n",
        "    \"\"\"\n",
        "    Predecir si la etiqueta es 0 o 1 mediante regresión logística aprendida.\n",
        "    Calcula las predicciones para X usando un umbral en 0.5 (es decir, si sigmoide (theta.T * x)> = 0.5, predice 1)\n",
        "\n",
        "    Parametros\n",
        "    ----------\n",
        "    theta : array_like\n",
        "        Parametros para regresion logistica. Un vecto de la forma (n+1, ).\n",
        "    \n",
        "    X : array_like\n",
        "        Datos utilizados para el calculo de las predicciones. \n",
        "        La fila es el numero de los puntos para calcular las predicciones, \n",
        "        y las columnas con el numero de caracteristicas.\n",
        "\n",
        "    Devuelve\n",
        "    -------\n",
        "    p : array_like\n",
        "        Predicciones y 0 o 1 para cada fila en X. \n",
        "    \"\"\"\n",
        "    m = X.shape[0] # Numero de ejemplo de entrenamiento\n",
        "\n",
        "    p = np.zeros(m)\n",
        "\n",
        "    p = np.round(sigmoid(X.dot(theta.T)))\n",
        "    return p"
      ],
      "metadata": {
        "id": "iYiTMivzoU8f"
      },
      "execution_count": 198,
      "outputs": []
    },
    {
      "cell_type": "code",
      "source": [
        "#  Predice la probabilidad de ingreso para un estudiante con nota de 45 en el examen 1 y nota de 85 en el examen 2\n",
        "prob = sigmoid(np.dot([25,1,0,1,30,30,0,1,55,3,1,1,2,8,1,1,1,1], theta))\n",
        "print('Para un estudiante con notas de 45 y 85, se predice una probabilidad de admisión de: {:.3f}%'.format(prob))\n",
        "print('Valor esperado: 0.775 +/- 0.002\\n')\n",
        "\n",
        "# Compute accuracy on our training set\n",
        "p = predict(theta, X)\n",
        "print('Precisión de entrenamiento: {:.2f} %'.format(np.mean(p == y) * 100))\n",
        "print('Precisión esperada (aproximadamente): 89.00 %')"
      ],
      "metadata": {
        "colab": {
          "base_uri": "https://localhost:8080/",
          "height": 0
        },
        "id": "GycR0ZuHoadM",
        "outputId": "f9f7a46b-1ddc-4c91-e659-114bc961a1e7"
      },
      "execution_count": 200,
      "outputs": [
        {
          "output_type": "stream",
          "name": "stdout",
          "text": [
            "Para un estudiante con notas de 45 y 85, se predice una probabilidad de admisión de: 0.000%\n",
            "Valor esperado: 0.775 +/- 0.002\n",
            "\n",
            "Precisión de entrenamiento: 91.50 %\n",
            "Precisión esperada (aproximadamente): 89.00 %\n"
          ]
        }
      ]
    }
  ]
}