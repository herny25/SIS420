{
  "cells": [
    {
      "cell_type": "markdown",
      "metadata": {
        "id": "view-in-github",
        "colab_type": "text"
      },
      "source": [
        "<a href=\"https://colab.research.google.com/github/herny25/SIS420/blob/main/PrimerEjercicio_SegundoParcialconDataSet.ipynb\" target=\"_parent\"><img src=\"https://colab.research.google.com/assets/colab-badge.svg\" alt=\"Open In Colab\"/></a>"
      ]
    },
    {
      "cell_type": "code",
      "execution_count": null,
      "metadata": {
        "id": "mr_7r6LtZFYo"
      },
      "outputs": [],
      "source": [
        "# utilizado para manejos de directorios y rutas\n",
        "import os\n",
        "# Computacion vectorial y cientifica para python\n",
        "import numpy as np\n",
        "\n",
        "# Librerias para graficación (trazado de gráficos)\n",
        "from matplotlib import pyplot\n",
        "from scipy import optimize\n",
        "%matplotlib inline"
      ]
    },
    {
      "cell_type": "code",
      "execution_count": null,
      "metadata": {
        "id": "p0iuj35LcJmo"
      },
      "outputs": [],
      "source": [
        "import pandas as pd\n",
        "from sklearn.preprocessing import LabelEncoder\n",
        "from datetime import datetime\n",
        "from sklearn.model_selection import train_test_split"
      ]
    },
    {
      "cell_type": "code",
      "execution_count": null,
      "metadata": {
        "id": "CA3Af7yPcNWy"
      },
      "outputs": [],
      "source": [
        "#Carga de dataset\n",
        "#Link del dataset https://www.kaggle.com/datasets/kamilpytlak/personal-key-indicators-of-heart-disease",
        "data = pd.read_csv('heart_2020_cleaned.csv', header=0)\n"
      ]
    },
    {
      "cell_type": "code",
      "execution_count": null,
      "metadata": {
        "colab": {
          "base_uri": "https://localhost:8080/"
        },
        "id": "fOeY98czduk-",
        "outputId": "33814be6-ffca-413c-ec72-5efe79dd5127"
      },
      "outputs": [
        {
          "name": "stdout",
          "output_type": "stream",
          "text": [
            "       HeartDisease    BMI Smoking AlcoholDrinking Stroke  PhysicalHealth  \\\n",
            "0                No  16.60     Yes              No     No             3.0   \n",
            "1                No  20.34      No              No    Yes             0.0   \n",
            "2                No  26.58     Yes              No     No            20.0   \n",
            "3                No  24.21      No              No     No             0.0   \n",
            "4                No  23.71      No              No     No            28.0   \n",
            "...             ...    ...     ...             ...    ...             ...   \n",
            "319790          Yes  27.41     Yes              No     No             7.0   \n",
            "319791           No  29.84     Yes              No     No             0.0   \n",
            "319792           No  24.24      No              No     No             0.0   \n",
            "319793           No  32.81      No              No     No             0.0   \n",
            "319794           No  46.56      No              No     No             0.0   \n",
            "\n",
            "        MentalHealth DiffWalking     Sex  AgeCategory      Race Diabetic  \\\n",
            "0               30.0          No  Female        55-59     White      Yes   \n",
            "1                0.0          No  Female  80 or older     White       No   \n",
            "2               30.0          No    Male        65-69     White      Yes   \n",
            "3                0.0          No  Female        75-79     White       No   \n",
            "4                0.0         Yes  Female        40-44     White       No   \n",
            "...              ...         ...     ...          ...       ...      ...   \n",
            "319790           0.0         Yes    Male        60-64  Hispanic      Yes   \n",
            "319791           0.0          No    Male        35-39  Hispanic       No   \n",
            "319792           0.0          No  Female        45-49  Hispanic       No   \n",
            "319793           0.0          No  Female        25-29  Hispanic       No   \n",
            "319794           0.0          No  Female  80 or older  Hispanic       No   \n",
            "\n",
            "       PhysicalActivity  GenHealth  SleepTime Asthma KidneyDisease SkinCancer  \n",
            "0                   Yes  Very good        5.0    Yes            No        Yes  \n",
            "1                   Yes  Very good        7.0     No            No         No  \n",
            "2                   Yes       Fair        8.0    Yes            No         No  \n",
            "3                    No       Good        6.0     No            No        Yes  \n",
            "4                   Yes  Very good        8.0     No            No         No  \n",
            "...                 ...        ...        ...    ...           ...        ...  \n",
            "319790               No       Fair        6.0    Yes            No         No  \n",
            "319791              Yes  Very good        5.0    Yes            No         No  \n",
            "319792              Yes       Good        6.0     No            No         No  \n",
            "319793               No       Good       12.0     No            No         No  \n",
            "319794              Yes       Good        8.0     No            No         No  \n",
            "\n",
            "[319795 rows x 18 columns]\n"
          ]
        }
      ],
      "source": [
        "# imprimimos el dataset\n",
        "print(data)"
      ]
    },
    {
      "cell_type": "code",
      "execution_count": null,
      "metadata": {
        "colab": {
          "base_uri": "https://localhost:8080/"
        },
        "id": "HZv43DSNd5NT",
        "outputId": "5b011d5c-2989-4450-fccc-06f0dc17248b"
      },
      "outputs": [
        {
          "name": "stdout",
          "output_type": "stream",
          "text": [
            "<class 'pandas.core.frame.DataFrame'>\n",
            "RangeIndex: 319795 entries, 0 to 319794\n",
            "Data columns (total 18 columns):\n",
            " #   Column            Non-Null Count   Dtype  \n",
            "---  ------            --------------   -----  \n",
            " 0   HeartDisease      319795 non-null  object \n",
            " 1   BMI               319795 non-null  float64\n",
            " 2   Smoking           319795 non-null  object \n",
            " 3   AlcoholDrinking   319795 non-null  object \n",
            " 4   Stroke            319795 non-null  object \n",
            " 5   PhysicalHealth    319795 non-null  float64\n",
            " 6   MentalHealth      319795 non-null  float64\n",
            " 7   DiffWalking       319795 non-null  object \n",
            " 8   Sex               319795 non-null  object \n",
            " 9   AgeCategory       319795 non-null  object \n",
            " 10  Race              319795 non-null  object \n",
            " 11  Diabetic          319795 non-null  object \n",
            " 12  PhysicalActivity  319795 non-null  object \n",
            " 13  GenHealth         319795 non-null  object \n",
            " 14  SleepTime         319795 non-null  float64\n",
            " 15  Asthma            319795 non-null  object \n",
            " 16  KidneyDisease     319795 non-null  object \n",
            " 17  SkinCancer        319795 non-null  object \n",
            "dtypes: float64(4), object(14)\n",
            "memory usage: 43.9+ MB\n"
          ]
        }
      ],
      "source": [
        "# observamos si faltan datos o tenemos string en los datos\n",
        "data.info()"
      ]
    },
    {
      "cell_type": "code",
      "execution_count": null,
      "metadata": {
        "id": "8fecpGO-eA6q"
      },
      "outputs": [],
      "source": [
        "# seleccionamos los datos string para cambiarlos a numericos\n",
        "columnas_categoricas = data.select_dtypes(include=['object']).columns"
      ]
    },
    {
      "cell_type": "code",
      "execution_count": null,
      "metadata": {
        "id": "ShtyfiIYeI66"
      },
      "outputs": [],
      "source": [
        "\n",
        "# iteramos y transformamos los datos de tipo object a tipo int\n",
        "for columna in columnas_categoricas:\n",
        "  le = LabelEncoder()\n",
        "  data[columna] = le.fit_transform(data[columna])"
      ]
    },
    {
      "cell_type": "code",
      "execution_count": null,
      "metadata": {
        "colab": {
          "base_uri": "https://localhost:8080/"
        },
        "id": "fpQcYeKwePXD",
        "outputId": "a8e5c259-1b24-4530-a95e-d81e6b138f6a"
      },
      "outputs": [
        {
          "name": "stdout",
          "output_type": "stream",
          "text": [
            "<class 'pandas.core.frame.DataFrame'>\n",
            "RangeIndex: 319795 entries, 0 to 319794\n",
            "Data columns (total 18 columns):\n",
            " #   Column            Non-Null Count   Dtype  \n",
            "---  ------            --------------   -----  \n",
            " 0   HeartDisease      319795 non-null  int32  \n",
            " 1   BMI               319795 non-null  float64\n",
            " 2   Smoking           319795 non-null  int32  \n",
            " 3   AlcoholDrinking   319795 non-null  int32  \n",
            " 4   Stroke            319795 non-null  int32  \n",
            " 5   PhysicalHealth    319795 non-null  float64\n",
            " 6   MentalHealth      319795 non-null  float64\n",
            " 7   DiffWalking       319795 non-null  int32  \n",
            " 8   Sex               319795 non-null  int32  \n",
            " 9   AgeCategory       319795 non-null  int32  \n",
            " 10  Race              319795 non-null  int32  \n",
            " 11  Diabetic          319795 non-null  int32  \n",
            " 12  PhysicalActivity  319795 non-null  int32  \n",
            " 13  GenHealth         319795 non-null  int32  \n",
            " 14  SleepTime         319795 non-null  float64\n",
            " 15  Asthma            319795 non-null  int32  \n",
            " 16  KidneyDisease     319795 non-null  int32  \n",
            " 17  SkinCancer        319795 non-null  int32  \n",
            "dtypes: float64(4), int32(14)\n",
            "memory usage: 26.8 MB\n"
          ]
        }
      ],
      "source": [
        "\n",
        "# confirmamos tipos de datos\n",
        "data.info()"
      ]
    },
    {
      "cell_type": "code",
      "execution_count": null,
      "metadata": {
        "colab": {
          "base_uri": "https://localhost:8080/"
        },
        "id": "e6TwF_XhsD0O",
        "outputId": "cc371bab-763a-419c-de30-526d018309d4"
      },
      "outputs": [
        {
          "name": "stdout",
          "output_type": "stream",
          "text": [
            "        HeartDisease    BMI  Smoking  AlcoholDrinking  Stroke  PhysicalHealth  \\\n",
            "0                  0  16.60        1                0       0             3.0   \n",
            "1                  0  20.34        0                0       1             0.0   \n",
            "2                  0  26.58        1                0       0            20.0   \n",
            "3                  0  24.21        0                0       0             0.0   \n",
            "4                  0  23.71        0                0       0            28.0   \n",
            "...              ...    ...      ...              ...     ...             ...   \n",
            "319790             1  27.41        1                0       0             7.0   \n",
            "319791             0  29.84        1                0       0             0.0   \n",
            "319792             0  24.24        0                0       0             0.0   \n",
            "319793             0  32.81        0                0       0             0.0   \n",
            "319794             0  46.56        0                0       0             0.0   \n",
            "\n",
            "        MentalHealth  DiffWalking  Sex  AgeCategory  Race  Diabetic  \\\n",
            "0               30.0            0    0            7     5         2   \n",
            "1                0.0            0    0           12     5         0   \n",
            "2               30.0            0    1            9     5         2   \n",
            "3                0.0            0    0           11     5         0   \n",
            "4                0.0            1    0            4     5         0   \n",
            "...              ...          ...  ...          ...   ...       ...   \n",
            "319790           0.0            1    1            8     3         2   \n",
            "319791           0.0            0    1            3     3         0   \n",
            "319792           0.0            0    0            5     3         0   \n",
            "319793           0.0            0    0            1     3         0   \n",
            "319794           0.0            0    0           12     3         0   \n",
            "\n",
            "        PhysicalActivity  GenHealth  SleepTime  Asthma  KidneyDisease  \\\n",
            "0                      1          4        5.0       1              0   \n",
            "1                      1          4        7.0       0              0   \n",
            "2                      1          1        8.0       1              0   \n",
            "3                      0          2        6.0       0              0   \n",
            "4                      1          4        8.0       0              0   \n",
            "...                  ...        ...        ...     ...            ...   \n",
            "319790                 0          1        6.0       1              0   \n",
            "319791                 1          4        5.0       1              0   \n",
            "319792                 1          2        6.0       0              0   \n",
            "319793                 0          2       12.0       0              0   \n",
            "319794                 1          2        8.0       0              0   \n",
            "\n",
            "        SkinCancer  \n",
            "0                1  \n",
            "1                0  \n",
            "2                0  \n",
            "3                1  \n",
            "4                0  \n",
            "...            ...  \n",
            "319790           0  \n",
            "319791           0  \n",
            "319792           0  \n",
            "319793           0  \n",
            "319794           0  \n",
            "\n",
            "[319795 rows x 18 columns]\n"
          ]
        }
      ],
      "source": [
        "#Imprimimos nuevamente el dataset para verificar\n",
        "print(data)"
      ]
    },
    {
      "cell_type": "code",
      "execution_count": null,
      "metadata": {
        "colab": {
          "base_uri": "https://localhost:8080/"
        },
        "id": "C_6838aEehB1",
        "outputId": "f48f15b6-9a79-4ba3-f0ac-634fdebaa1ee"
      },
      "outputs": [
        {
          "name": "stdout",
          "output_type": "stream",
          "text": [
            "Index(['HeartDisease', 'BMI', 'Smoking', 'AlcoholDrinking', 'Stroke',\n",
            "       'PhysicalHealth', 'MentalHealth', 'DiffWalking', 'Sex', 'AgeCategory',\n",
            "       'Race', 'Diabetic', 'PhysicalActivity', 'GenHealth', 'SleepTime',\n",
            "       'Asthma', 'KidneyDisease', 'SkinCancer'],\n",
            "      dtype='object')\n"
          ]
        }
      ],
      "source": [
        "#Observamos las columnas del dataset\n",
        "print(data.columns)"
      ]
    },
    {
      "cell_type": "code",
      "execution_count": null,
      "metadata": {
        "id": "q0_TtX3mei-U"
      },
      "outputs": [],
      "source": [
        "#llenamos las columnas que tengan datos vacios\n",
        "vacios = ['BMI','PhysicalHealth', 'MentalHealth', 'SleepTime']\n",
        "media_columnas = data[vacios].mean()\n",
        "data[vacios] = data[vacios].fillna(media_columnas)"
      ]
    },
    {
      "cell_type": "code",
      "execution_count": null,
      "metadata": {
        "colab": {
          "base_uri": "https://localhost:8080/"
        },
        "id": "-PzTJozifR1B",
        "outputId": "7f5fd50a-657b-4253-95a3-2603ace0c3c9"
      },
      "outputs": [
        {
          "name": "stdout",
          "output_type": "stream",
          "text": [
            "<class 'pandas.core.frame.DataFrame'>\n",
            "RangeIndex: 319795 entries, 0 to 319794\n",
            "Data columns (total 18 columns):\n",
            " #   Column            Non-Null Count   Dtype  \n",
            "---  ------            --------------   -----  \n",
            " 0   HeartDisease      319795 non-null  int32  \n",
            " 1   BMI               319795 non-null  float64\n",
            " 2   Smoking           319795 non-null  int32  \n",
            " 3   AlcoholDrinking   319795 non-null  int32  \n",
            " 4   Stroke            319795 non-null  int32  \n",
            " 5   PhysicalHealth    319795 non-null  float64\n",
            " 6   MentalHealth      319795 non-null  float64\n",
            " 7   DiffWalking       319795 non-null  int32  \n",
            " 8   Sex               319795 non-null  int32  \n",
            " 9   AgeCategory       319795 non-null  int32  \n",
            " 10  Race              319795 non-null  int32  \n",
            " 11  Diabetic          319795 non-null  int32  \n",
            " 12  PhysicalActivity  319795 non-null  int32  \n",
            " 13  GenHealth         319795 non-null  int32  \n",
            " 14  SleepTime         319795 non-null  float64\n",
            " 15  Asthma            319795 non-null  int32  \n",
            " 16  KidneyDisease     319795 non-null  int32  \n",
            " 17  SkinCancer        319795 non-null  int32  \n",
            "dtypes: float64(4), int32(14)\n",
            "memory usage: 26.8 MB\n"
          ]
        }
      ],
      "source": [
        "# verificamos que ya no haya datos vacios\n",
        "data.info()"
      ]
    },
    {
      "cell_type": "code",
      "execution_count": null,
      "metadata": {
        "id": "VrtxtJsEfUIK"
      },
      "outputs": [],
      "source": [
        "\n",
        "# seleccionamos los datos para X y y\n",
        "X = data.iloc[:, 1:]\n",
        "y = data.iloc[:, 0]\n",
        "m = y.size\n",
        "\n"
      ]
    },
    {
      "cell_type": "code",
      "execution_count": null,
      "metadata": {
        "colab": {
          "base_uri": "https://localhost:8080/"
        },
        "id": "pQHMfuq2flds",
        "outputId": "7a9f4751-eb6f-47d0-c9d6-7bc665954961"
      },
      "outputs": [
        {
          "name": "stdout",
          "output_type": "stream",
          "text": [
            "          BMI  Smoking  AlcoholDrinking  Stroke  PhysicalHealth  MentalHealth  \\\n",
            "0       16.60        1                0       0             3.0          30.0   \n",
            "1       20.34        0                0       1             0.0           0.0   \n",
            "2       26.58        1                0       0            20.0          30.0   \n",
            "3       24.21        0                0       0             0.0           0.0   \n",
            "4       23.71        0                0       0            28.0           0.0   \n",
            "...       ...      ...              ...     ...             ...           ...   \n",
            "319790  27.41        1                0       0             7.0           0.0   \n",
            "319791  29.84        1                0       0             0.0           0.0   \n",
            "319792  24.24        0                0       0             0.0           0.0   \n",
            "319793  32.81        0                0       0             0.0           0.0   \n",
            "319794  46.56        0                0       0             0.0           0.0   \n",
            "\n",
            "        DiffWalking  Sex  AgeCategory  Race  Diabetic  PhysicalActivity  \\\n",
            "0                 0    0            7     5         2                 1   \n",
            "1                 0    0           12     5         0                 1   \n",
            "2                 0    1            9     5         2                 1   \n",
            "3                 0    0           11     5         0                 0   \n",
            "4                 1    0            4     5         0                 1   \n",
            "...             ...  ...          ...   ...       ...               ...   \n",
            "319790            1    1            8     3         2                 0   \n",
            "319791            0    1            3     3         0                 1   \n",
            "319792            0    0            5     3         0                 1   \n",
            "319793            0    0            1     3         0                 0   \n",
            "319794            0    0           12     3         0                 1   \n",
            "\n",
            "        GenHealth  SleepTime  Asthma  KidneyDisease  SkinCancer  \n",
            "0               4        5.0       1              0           1  \n",
            "1               4        7.0       0              0           0  \n",
            "2               1        8.0       1              0           0  \n",
            "3               2        6.0       0              0           1  \n",
            "4               4        8.0       0              0           0  \n",
            "...           ...        ...     ...            ...         ...  \n",
            "319790          1        6.0       1              0           0  \n",
            "319791          4        5.0       1              0           0  \n",
            "319792          2        6.0       0              0           0  \n",
            "319793          2       12.0       0              0           0  \n",
            "319794          2        8.0       0              0           0  \n",
            "\n",
            "[319795 rows x 17 columns]\n",
            "***************\n",
            "0         0\n",
            "1         0\n",
            "2         0\n",
            "3         0\n",
            "4         0\n",
            "         ..\n",
            "319790    1\n",
            "319791    0\n",
            "319792    0\n",
            "319793    0\n",
            "319794    0\n",
            "Name: HeartDisease, Length: 319795, dtype: int32\n"
          ]
        }
      ],
      "source": [
        "# imprimimos los datos que estaran en X y separados por una linea de *, los datos de y\n",
        "print(X)\n",
        "print('*'*15)\n",
        "print(y)"
      ]
    },
    {
      "cell_type": "code",
      "execution_count": null,
      "metadata": {
        "id": "MxH9Jtybfp9q"
      },
      "outputs": [],
      "source": [
        "# cargamos los datos y las etiquetas correspondientes\n",
        "def  featureNormalize(X):\n",
        "    X_norm = X.copy()\n",
        "    mu = np.zeros(X.shape[1])\n",
        "    sigma = np.zeros(X.shape[1])\n",
        "\n",
        "    mu = np.mean(X, axis = 0)\n",
        "    sigma = np.std(X, axis = 0)\n",
        "    X_norm = (X - mu) / sigma\n",
        "    \n",
        "    return X_norm, mu, sigma"
      ]
    },
    {
      "cell_type": "code",
      "execution_count": null,
      "metadata": {
        "id": "Y1-MHDHogNsA",
        "outputId": "96d5e998-ec38-4ed3-93e7-2127ce5bc5fc"
      },
      "outputs": [
        {
          "data": {
            "text/html": [
              "<div>\n",
              "<style scoped>\n",
              "    .dataframe tbody tr th:only-of-type {\n",
              "        vertical-align: middle;\n",
              "    }\n",
              "\n",
              "    .dataframe tbody tr th {\n",
              "        vertical-align: top;\n",
              "    }\n",
              "\n",
              "    .dataframe thead th {\n",
              "        text-align: right;\n",
              "    }\n",
              "</style>\n",
              "<table border=\"1\" class=\"dataframe\">\n",
              "  <thead>\n",
              "    <tr style=\"text-align: right;\">\n",
              "      <th></th>\n",
              "      <th>HeartDisease</th>\n",
              "      <th>BMI</th>\n",
              "      <th>Smoking</th>\n",
              "      <th>AlcoholDrinking</th>\n",
              "      <th>Stroke</th>\n",
              "      <th>PhysicalHealth</th>\n",
              "      <th>MentalHealth</th>\n",
              "      <th>DiffWalking</th>\n",
              "      <th>Sex</th>\n",
              "      <th>AgeCategory</th>\n",
              "      <th>Race</th>\n",
              "      <th>Diabetic</th>\n",
              "      <th>PhysicalActivity</th>\n",
              "      <th>GenHealth</th>\n",
              "      <th>SleepTime</th>\n",
              "      <th>Asthma</th>\n",
              "      <th>KidneyDisease</th>\n",
              "      <th>SkinCancer</th>\n",
              "    </tr>\n",
              "  </thead>\n",
              "  <tbody>\n",
              "    <tr>\n",
              "      <th>0</th>\n",
              "      <td>0</td>\n",
              "      <td>16.60</td>\n",
              "      <td>1</td>\n",
              "      <td>0</td>\n",
              "      <td>0</td>\n",
              "      <td>3.0</td>\n",
              "      <td>30.0</td>\n",
              "      <td>0</td>\n",
              "      <td>0</td>\n",
              "      <td>7</td>\n",
              "      <td>5</td>\n",
              "      <td>2</td>\n",
              "      <td>1</td>\n",
              "      <td>4</td>\n",
              "      <td>5.0</td>\n",
              "      <td>1</td>\n",
              "      <td>0</td>\n",
              "      <td>1</td>\n",
              "    </tr>\n",
              "    <tr>\n",
              "      <th>1</th>\n",
              "      <td>0</td>\n",
              "      <td>20.34</td>\n",
              "      <td>0</td>\n",
              "      <td>0</td>\n",
              "      <td>1</td>\n",
              "      <td>0.0</td>\n",
              "      <td>0.0</td>\n",
              "      <td>0</td>\n",
              "      <td>0</td>\n",
              "      <td>12</td>\n",
              "      <td>5</td>\n",
              "      <td>0</td>\n",
              "      <td>1</td>\n",
              "      <td>4</td>\n",
              "      <td>7.0</td>\n",
              "      <td>0</td>\n",
              "      <td>0</td>\n",
              "      <td>0</td>\n",
              "    </tr>\n",
              "    <tr>\n",
              "      <th>2</th>\n",
              "      <td>0</td>\n",
              "      <td>26.58</td>\n",
              "      <td>1</td>\n",
              "      <td>0</td>\n",
              "      <td>0</td>\n",
              "      <td>20.0</td>\n",
              "      <td>30.0</td>\n",
              "      <td>0</td>\n",
              "      <td>1</td>\n",
              "      <td>9</td>\n",
              "      <td>5</td>\n",
              "      <td>2</td>\n",
              "      <td>1</td>\n",
              "      <td>1</td>\n",
              "      <td>8.0</td>\n",
              "      <td>1</td>\n",
              "      <td>0</td>\n",
              "      <td>0</td>\n",
              "    </tr>\n",
              "    <tr>\n",
              "      <th>3</th>\n",
              "      <td>0</td>\n",
              "      <td>24.21</td>\n",
              "      <td>0</td>\n",
              "      <td>0</td>\n",
              "      <td>0</td>\n",
              "      <td>0.0</td>\n",
              "      <td>0.0</td>\n",
              "      <td>0</td>\n",
              "      <td>0</td>\n",
              "      <td>11</td>\n",
              "      <td>5</td>\n",
              "      <td>0</td>\n",
              "      <td>0</td>\n",
              "      <td>2</td>\n",
              "      <td>6.0</td>\n",
              "      <td>0</td>\n",
              "      <td>0</td>\n",
              "      <td>1</td>\n",
              "    </tr>\n",
              "    <tr>\n",
              "      <th>4</th>\n",
              "      <td>0</td>\n",
              "      <td>23.71</td>\n",
              "      <td>0</td>\n",
              "      <td>0</td>\n",
              "      <td>0</td>\n",
              "      <td>28.0</td>\n",
              "      <td>0.0</td>\n",
              "      <td>1</td>\n",
              "      <td>0</td>\n",
              "      <td>4</td>\n",
              "      <td>5</td>\n",
              "      <td>0</td>\n",
              "      <td>1</td>\n",
              "      <td>4</td>\n",
              "      <td>8.0</td>\n",
              "      <td>0</td>\n",
              "      <td>0</td>\n",
              "      <td>0</td>\n",
              "    </tr>\n",
              "  </tbody>\n",
              "</table>\n",
              "</div>"
            ],
            "text/plain": [
              "   HeartDisease    BMI  Smoking  AlcoholDrinking  Stroke  PhysicalHealth  \\\n",
              "0             0  16.60        1                0       0             3.0   \n",
              "1             0  20.34        0                0       1             0.0   \n",
              "2             0  26.58        1                0       0            20.0   \n",
              "3             0  24.21        0                0       0             0.0   \n",
              "4             0  23.71        0                0       0            28.0   \n",
              "\n",
              "   MentalHealth  DiffWalking  Sex  AgeCategory  Race  Diabetic  \\\n",
              "0          30.0            0    0            7     5         2   \n",
              "1           0.0            0    0           12     5         0   \n",
              "2          30.0            0    1            9     5         2   \n",
              "3           0.0            0    0           11     5         0   \n",
              "4           0.0            1    0            4     5         0   \n",
              "\n",
              "   PhysicalActivity  GenHealth  SleepTime  Asthma  KidneyDisease  SkinCancer  \n",
              "0                 1          4        5.0       1              0           1  \n",
              "1                 1          4        7.0       0              0           0  \n",
              "2                 1          1        8.0       1              0           0  \n",
              "3                 0          2        6.0       0              0           1  \n",
              "4                 1          4        8.0       0              0           0  "
            ]
          },
          "execution_count": 87,
          "metadata": {},
          "output_type": "execute_result"
        }
      ],
      "source": [
        "X_norm, mu, sigma = featureNormalize(X)\n",
        "data.head()"
      ]
    },
    {
      "cell_type": "code",
      "execution_count": null,
      "metadata": {
        "id": "zE_r4VLFgNsA",
        "outputId": "8d562ecd-203a-48dc-b970-836c45f0e7e8"
      },
      "outputs": [
        {
          "name": "stdout",
          "output_type": "stream",
          "text": [
            "          BMI  Smoking  AlcoholDrinking  Stroke  PhysicalHealth  MentalHealth  \\\n",
            "0       16.60        1                0       0             3.0          30.0   \n",
            "1       20.34        0                0       1             0.0           0.0   \n",
            "2       26.58        1                0       0            20.0          30.0   \n",
            "3       24.21        0                0       0             0.0           0.0   \n",
            "4       23.71        0                0       0            28.0           0.0   \n",
            "...       ...      ...              ...     ...             ...           ...   \n",
            "319790  27.41        1                0       0             7.0           0.0   \n",
            "319791  29.84        1                0       0             0.0           0.0   \n",
            "319792  24.24        0                0       0             0.0           0.0   \n",
            "319793  32.81        0                0       0             0.0           0.0   \n",
            "319794  46.56        0                0       0             0.0           0.0   \n",
            "\n",
            "        DiffWalking  Sex  AgeCategory  Race  Diabetic  PhysicalActivity  \\\n",
            "0                 0    0            7     5         2                 1   \n",
            "1                 0    0           12     5         0                 1   \n",
            "2                 0    1            9     5         2                 1   \n",
            "3                 0    0           11     5         0                 0   \n",
            "4                 1    0            4     5         0                 1   \n",
            "...             ...  ...          ...   ...       ...               ...   \n",
            "319790            1    1            8     3         2                 0   \n",
            "319791            0    1            3     3         0                 1   \n",
            "319792            0    0            5     3         0                 1   \n",
            "319793            0    0            1     3         0                 0   \n",
            "319794            0    0           12     3         0                 1   \n",
            "\n",
            "        GenHealth  SleepTime  Asthma  KidneyDisease  SkinCancer  \n",
            "0               4        5.0       1              0           1  \n",
            "1               4        7.0       0              0           0  \n",
            "2               1        8.0       1              0           0  \n",
            "3               2        6.0       0              0           1  \n",
            "4               4        8.0       0              0           0  \n",
            "...           ...        ...     ...            ...         ...  \n",
            "319790          1        6.0       1              0           0  \n",
            "319791          4        5.0       1              0           0  \n",
            "319792          2        6.0       0              0           0  \n",
            "319793          2       12.0       0              0           0  \n",
            "319794          2        8.0       0              0           0  \n",
            "\n",
            "[319795 rows x 17 columns]\n"
          ]
        }
      ],
      "source": [
        "print(X)"
      ]
    },
    {
      "cell_type": "code",
      "execution_count": null,
      "metadata": {
        "colab": {
          "base_uri": "https://localhost:8080/"
        },
        "id": "6p4pS14Kfs6k",
        "outputId": "1fea1fc1-ce25-4bae-839b-b5313e48636e"
      },
      "outputs": [
        {
          "name": "stdout",
          "output_type": "stream",
          "text": [
            "          BMI  Smoking  AlcoholDrinking  Stroke  PhysicalHealth  MentalHealth  \\\n",
            "0       16.60        1                0       0             3.0          30.0   \n",
            "1       20.34        0                0       1             0.0           0.0   \n",
            "2       26.58        1                0       0            20.0          30.0   \n",
            "3       24.21        0                0       0             0.0           0.0   \n",
            "4       23.71        0                0       0            28.0           0.0   \n",
            "...       ...      ...              ...     ...             ...           ...   \n",
            "319790  27.41        1                0       0             7.0           0.0   \n",
            "319791  29.84        1                0       0             0.0           0.0   \n",
            "319792  24.24        0                0       0             0.0           0.0   \n",
            "319793  32.81        0                0       0             0.0           0.0   \n",
            "319794  46.56        0                0       0             0.0           0.0   \n",
            "\n",
            "        DiffWalking  Sex  AgeCategory  Race  Diabetic  PhysicalActivity  \\\n",
            "0                 0    0            7     5         2                 1   \n",
            "1                 0    0           12     5         0                 1   \n",
            "2                 0    1            9     5         2                 1   \n",
            "3                 0    0           11     5         0                 0   \n",
            "4                 1    0            4     5         0                 1   \n",
            "...             ...  ...          ...   ...       ...               ...   \n",
            "319790            1    1            8     3         2                 0   \n",
            "319791            0    1            3     3         0                 1   \n",
            "319792            0    0            5     3         0                 1   \n",
            "319793            0    0            1     3         0                 0   \n",
            "319794            0    0           12     3         0                 1   \n",
            "\n",
            "        GenHealth  SleepTime  Asthma  KidneyDisease  SkinCancer  \n",
            "0               4        5.0       1              0           1  \n",
            "1               4        7.0       0              0           0  \n",
            "2               1        8.0       1              0           0  \n",
            "3               2        6.0       0              0           1  \n",
            "4               4        8.0       0              0           0  \n",
            "...           ...        ...     ...            ...         ...  \n",
            "319790          1        6.0       1              0           0  \n",
            "319791          4        5.0       1              0           0  \n",
            "319792          2        6.0       0              0           0  \n",
            "319793          2       12.0       0              0           0  \n",
            "319794          2        8.0       0              0           0  \n",
            "\n",
            "[319795 rows x 17 columns]\n",
            "Media calculada: BMI                 28.325399\n",
            "Smoking              0.412477\n",
            "AlcoholDrinking      0.068097\n",
            "Stroke               0.037740\n",
            "PhysicalHealth       3.371710\n",
            "MentalHealth         3.898366\n",
            "DiffWalking          0.138870\n",
            "Sex                  0.475273\n",
            "AgeCategory          6.514536\n",
            "Race                 4.396742\n",
            "Diabetic             0.300386\n",
            "PhysicalActivity     0.775362\n",
            "GenHealth            2.220904\n",
            "SleepTime            7.097075\n",
            "Asthma               0.134061\n",
            "KidneyDisease        0.036833\n",
            "SkinCancer           0.093244\n",
            "dtype: float64\n",
            "Desviación estandar calculada: BMI                 6.356090\n",
            "Smoking             0.492280\n",
            "AlcoholDrinking     0.251912\n",
            "Stroke              0.190566\n",
            "PhysicalHealth      7.950838\n",
            "MentalHealth        7.955223\n",
            "DiffWalking         0.345811\n",
            "Sex                 0.499388\n",
            "AgeCategory         3.564754\n",
            "Race                1.212206\n",
            "Diabetic            0.716479\n",
            "PhysicalActivity    0.417343\n",
            "GenHealth           1.534645\n",
            "SleepTime           1.436005\n",
            "Asthma              0.340718\n",
            "KidneyDisease       0.188352\n",
            "SkinCancer          0.290774\n",
            "dtype: float64\n",
            "             BMI   Smoking  AlcoholDrinking    Stroke  PhysicalHealth  \\\n",
            "0      -1.844750  1.193474         -0.27032 -0.198040       -0.046751   \n",
            "1      -1.256338 -0.837890         -0.27032  5.049478       -0.424070   \n",
            "2      -0.274603  1.193474         -0.27032 -0.198040        2.091388   \n",
            "3      -0.647473 -0.837890         -0.27032 -0.198040       -0.424070   \n",
            "4      -0.726138 -0.837890         -0.27032 -0.198040        3.097572   \n",
            "...          ...       ...              ...       ...             ...   \n",
            "319790 -0.144019  1.193474         -0.27032 -0.198040        0.456341   \n",
            "319791  0.238291  1.193474         -0.27032 -0.198040       -0.424070   \n",
            "319792 -0.642753 -0.837890         -0.27032 -0.198040       -0.424070   \n",
            "319793  0.705560 -0.837890         -0.27032 -0.198040       -0.424070   \n",
            "319794  2.868839 -0.837890         -0.27032 -0.198040       -0.424070   \n",
            "\n",
            "        MentalHealth  DiffWalking       Sex  AgeCategory      Race  Diabetic  \\\n",
            "0           3.281069    -0.401578 -0.951711     0.136184  0.497653  2.372175   \n",
            "1          -0.490039    -0.401578 -0.951711     1.538806  0.497653 -0.419253   \n",
            "2           3.281069    -0.401578  1.050739     0.697233  0.497653  2.372175   \n",
            "3          -0.490039    -0.401578 -0.951711     1.258282  0.497653 -0.419253   \n",
            "4          -0.490039     2.490174 -0.951711    -0.705388  0.497653 -0.419253   \n",
            "...              ...          ...       ...          ...       ...       ...   \n",
            "319790     -0.490039     2.490174  1.050739     0.416709 -1.152231  2.372175   \n",
            "319791     -0.490039    -0.401578  1.050739    -0.985913 -1.152231 -0.419253   \n",
            "319792     -0.490039    -0.401578 -0.951711    -0.424864 -1.152231 -0.419253   \n",
            "319793     -0.490039    -0.401578 -0.951711    -1.546961 -1.152231 -0.419253   \n",
            "319794     -0.490039    -0.401578 -0.951711     1.538806 -1.152231 -0.419253   \n",
            "\n",
            "        PhysicalActivity  GenHealth  SleepTime    Asthma  KidneyDisease  \\\n",
            "0               0.538256   1.159288  -1.460354  2.541515      -0.195554   \n",
            "1               0.538256   1.159288  -0.067601 -0.393466      -0.195554   \n",
            "2               0.538256  -0.795561   0.628776  2.541515      -0.195554   \n",
            "3              -1.857852  -0.143945  -0.763977 -0.393466      -0.195554   \n",
            "4               0.538256   1.159288   0.628776 -0.393466      -0.195554   \n",
            "...                  ...        ...        ...       ...            ...   \n",
            "319790         -1.857852  -0.795561  -0.763977  2.541515      -0.195554   \n",
            "319791          0.538256   1.159288  -1.460354  2.541515      -0.195554   \n",
            "319792          0.538256  -0.143945  -0.763977 -0.393466      -0.195554   \n",
            "319793         -1.857852  -0.143945   3.414282 -0.393466      -0.195554   \n",
            "319794          0.538256  -0.143945   0.628776 -0.393466      -0.195554   \n",
            "\n",
            "        SkinCancer  \n",
            "0         3.118419  \n",
            "1        -0.320675  \n",
            "2        -0.320675  \n",
            "3         3.118419  \n",
            "4        -0.320675  \n",
            "...            ...  \n",
            "319790   -0.320675  \n",
            "319791   -0.320675  \n",
            "319792   -0.320675  \n",
            "319793   -0.320675  \n",
            "319794   -0.320675  \n",
            "\n",
            "[319795 rows x 17 columns]\n"
          ]
        }
      ],
      "source": [
        "# llama featureNormalize con los datos cargados\n",
        "X_norm, mu, sigma = featureNormalize(X)\n",
        "\n",
        "print(X)\n",
        "print('Media calculada:', mu)\n",
        "print('Desviación estandar calculada:', sigma)\n",
        "print(X_norm)"
      ]
    },
    {
      "cell_type": "code",
      "execution_count": null,
      "metadata": {
        "id": "glBW9TNmfvBO"
      },
      "outputs": [],
      "source": [
        "#X_array = [0,0,0,3,3,0,0,6,4,0,0,2,7,0,0,0,1]\n",
        "#X = (X_array[1:17] - mu) / sigma"
      ]
    },
    {
      "cell_type": "code",
      "execution_count": null,
      "metadata": {
        "id": "0ewOpkLIk0R1"
      },
      "outputs": [],
      "source": [
        "def sigmoid(z):\n",
        "    # Calcula la sigmoide de una entrada z\n",
        "    # convierte la intrada a un arreglo numpy\n",
        "    z = np.array(z)\n",
        "  \n",
        "    g = np.zeros(z.shape)\n",
        "\n",
        "    g = 1 / (1 + np.exp(-z))\n",
        "\n",
        "    return g"
      ]
    },
    {
      "cell_type": "code",
      "execution_count": null,
      "metadata": {
        "id": "VIs9NpP-f2He"
      },
      "outputs": [],
      "source": [
        "# Configurar la matriz adecuadamente, y agregar una columna de unos que corresponde al termino de intercepción. \n",
        "m, n = X.shape\n",
        "# Agraga el termino de intercepción a A\n",
        "X = np.concatenate([np.ones((m, 1)), X_norm], axis=1)"
      ]
    },
    {
      "cell_type": "code",
      "execution_count": null,
      "metadata": {
        "id": "LjJsFGdbf50e"
      },
      "outputs": [],
      "source": [
        "def calcularCosto(theta, X, y):\n",
        "    # Inicializar algunos valores utiles\n",
        "    m = y.size  # numero de ejemplos de entrenamiento\n",
        "    #epsilon = 1e-8\n",
        "\n",
        "    J = 0\n",
        "    h = sigmoid(X.dot(theta.T))\n",
        "    J = (1 / m) * np.sum(-y.dot(np.log(h)) - (1 - y).dot(np.log(1 - h)))\n",
        "    \n",
        "    return J"
      ]
    },
    {
      "cell_type": "code",
      "execution_count": null,
      "metadata": {
        "id": "9xYbqZl7f86K"
      },
      "outputs": [],
      "source": [
        "def descensoGradiente(theta, X, y, alpha, num_iters):\n",
        "    # Inicializa algunos valores\n",
        "    m = y.shape[0] # numero de ejemplos de entrenamiento\n",
        "    \n",
        "    # realiza una copia de theta, el cual será acutalizada por el descenso por el gradiente\n",
        "    theta = theta.copy()\n",
        "    J_history = []\n",
        "    \n",
        "    for i in range(num_iters):\n",
        "        h = sigmoid(X.dot(theta.T))\n",
        "        theta = theta - (alpha / m) * (h - y).dot(X)\n",
        "        J_history.append(calcularCosto(theta, X, y))\n",
        "    return theta, J_history"
      ]
    },
    {
      "cell_type": "code",
      "execution_count": null,
      "metadata": {
        "colab": {
          "base_uri": "https://localhost:8080/",
          "height": 338
        },
        "id": "0q9LiEYhlFGS",
        "outputId": "4092bec8-1f5d-472f-8f9c-02d02704f062"
      },
      "outputs": [
        {
          "name": "stdout",
          "output_type": "stream",
          "text": [
            "theta calculado por el descenso por el gradiente: [-2.27432409  0.0233045   0.13346543 -0.04322836  0.20049056  0.13486276\n",
            "  0.01435268  0.15006689  0.19261264  0.39881007  0.04143913  0.17587369\n",
            " -0.04759127 -0.01959227 -0.00259739  0.05368957  0.12416686  0.0730621 ]\n",
            "El valor predecido de tener una enfermedad cardiaca es(usando el descenso por el gradiente):1\n"
          ]
        },
        {
          "data": {
            "image/png": "[encoded data removed]",
            "text/plain": [
              "<Figure size 640x480 with 1 Axes>"
            ]
          },
          "metadata": {},
          "output_type": "display_data"
        }
      ],
      "source": [
        "# Elegir algun valor para alpha (probar varias alternativas)\n",
        "alpha = 0.007\n",
        "num_iters = 3000\n",
        "\n",
        "# inicializa theta y ejecuta el descenso por el gradiente\n",
        "theta = np.zeros(18)\n",
        "theta, J_history = descensoGradiente(theta, X, y, alpha, num_iters)\n",
        "\n",
        "# Grafica la convergencia del costo\n",
        "pyplot.plot(np.arange(len(J_history)), J_history, lw=2)\n",
        "pyplot.xlabel('Numero de iteraciones')\n",
        "pyplot.ylabel('Costo J')\n",
        "\n",
        "# Muestra los resultados del descenso por el gradiente\n",
        "print('theta calculado por el descenso por el gradiente: {:s}'.format(str(theta)))\n",
        "\n",
        "# verificar si ingresa o no a la universidad\n",
        "X_array = [1,30,1,0,1,5,30,1,1,4,2,1,1,2,5,1,0,1]\n",
        "aprueba = sigmoid(np.dot(X_array, theta))   # Se debe cambiar esto\n",
        "\n",
        "print('El valor predecido de tener una enfermedad cardiaca es(usando el descenso por el gradiente):{:.0f}'.format(aprueba))"
      ]
    },
    {
      "cell_type": "code",
      "execution_count": null,
      "metadata": {
        "id": "lvGrerVbmQxP"
      },
      "outputs": [],
      "source": [
        "def costFunction(theta, X, y):\n",
        "    # Inicializar algunos valores utiles\n",
        "    m = y.size  # numero de ejemplos de entrenamiento\n",
        "    epsilon = 1e-8\n",
        "\n",
        "    J = 0\n",
        "    grad = np.zeros(theta.shape)\n",
        "\n",
        "    h = sigmoid(X.dot(theta.T))\n",
        "    \n",
        "    J = (1 / m) * np.sum(-y.dot(np.log(h+epsilon)) - (1 - y).dot(np.log(1 - h+epsilon)))\n",
        "    grad = (1 / m) * (h - y).dot(X)\n",
        "    \n",
        "    return J, grad"
      ]
    },
    {
      "cell_type": "code",
      "execution_count": null,
      "metadata": {
        "colab": {
          "base_uri": "https://localhost:8080/"
        },
        "id": "Spx3IkcgmcV6",
        "outputId": "93091fae-decd-4de3-85d3-e0e7810df5a9"
      },
      "outputs": [
        {
          "name": "stdout",
          "output_type": "stream",
          "text": [
            "[0. 0. 0. 0. 0. 0. 0. 0. 0. 0. 0. 0. 0. 0. 0. 0. 0. 0.]\n",
            "Costo en theta inicial (zeros): 0.693\n",
            "[ 0.41440454 -0.01449276 -0.03014872  0.00897481 -0.05506778 -0.04776188\n",
            " -0.0079987  -0.05630511 -0.01959493 -0.06530635 -0.00975085 -0.04715531\n",
            "  0.02798495  0.00309473 -0.00232951 -0.01159465 -0.04062118 -0.02610687]\n",
            "Gradiente en theta inicial (zeros):\n",
            "\t[0.4144, -0.0145, -0.0301]\n"
          ]
        }
      ],
      "source": [
        "# Inicializacion de parametros de ajuste\n",
        "initial_theta = np.zeros(n+1)\n",
        "print(initial_theta)\n",
        "cost, grad = costFunction(initial_theta, X, y)\n",
        "\n",
        "print('Costo en theta inicial (zeros): {:.3f}'.format(cost))\n",
        "print(grad)\n",
        "print('Gradiente en theta inicial (zeros):')\n",
        "print('\\t[{:.4f}, {:.4f}, {:.4f}]'.format(*grad))"
      ]
    },
    {
      "cell_type": "code",
      "execution_count": null,
      "metadata": {
        "colab": {
          "base_uri": "https://localhost:8080/",
          "height": 602
        },
        "id": "IndBuKD3mfiK",
        "outputId": "720f5665-8347-4f12-e89e-f40971ac07bd"
      },
      "outputs": [
        {
          "name": "stdout",
          "output_type": "stream",
          "text": [
            "[ 0.41440454 -0.01449276 -0.03014872  0.00897481 -0.05506778 -0.04776188\n",
            " -0.0079987  -0.05630511 -0.01959493 -0.06530635 -0.00975085 -0.04715531\n",
            "  0.02798495  0.00309473 -0.00232951 -0.01159465 -0.04062118 -0.02610687]\n",
            "Costo en theta prueba: 0.911\n",
            "Gradiente en theta prueba:\n",
            "\t[0.516, -0.026, -0.046,0.013, -0.078, -0.076,-0.015, -0.089, -0.022,-0.094, -0.014, -0.071,0.048, 0.004, -0.003,-0.018, -0.061, -0.040]\n"
          ]
        }
      ],
      "source": [
        "# Calcula y muestra el costo y el gradiente con valores de theta diferentes a cero\n",
        "test_theta = np.array([ 0.41440454, -0.01449276, -0.03014872,  0.00897481, -0.05506778, -0.04776188,\n",
        "-0.0079987,  -0.05630511, -0.01959493, -0.06530635, -0.00975085, -0.04715531,\n",
        "0.02798495,  0.00309473, -0.00232951, -0.01159465, -0.04062118, -0.02610687])\n",
        "print(test_theta)\n",
        "cost, grad = costFunction(test_theta, X, y)\n",
        "\n",
        "print('Costo en theta prueba: {:.3f}'.format(cost))\n",
        "\n",
        "print('Gradiente en theta prueba:')\n",
        "print('\\t[{:.3f}, {:.3f}, {:.3f},{:.3f}, {:.3f}, {:.3f},{:.3f}, {:.3f}, {:.3f},{:.3f}, {:.3f}, {:.3f},{:.3f}, {:.3f}, {:.3f},{:.3f}, {:.3f}, {:.3f}]'.format(*grad))"
      ]
    },
    {
      "cell_type": "code",
      "execution_count": null,
      "metadata": {
        "colab": {
          "base_uri": "https://localhost:8080/"
        },
        "id": "dDfxbShboBa1",
        "outputId": "de42fd69-43c4-4b70-8a5e-6821e42cbfe8"
      },
      "outputs": [
        {
          "name": "stderr",
          "output_type": "stream",
          "text": [
            "C:\\Users\\hlope\\AppData\\Local\\Temp\\ipykernel_5932\\3090360450.py:7: DeprecationWarning: 'maxiter' has been deprecated in favor of 'maxfun' and will be removed in SciPy 1.11.0.\n",
            "  res = optimize.minimize(costFunction,\n"
          ]
        },
        {
          "name": "stdout",
          "output_type": "stream",
          "text": [
            "Costo con un valor de theta encontrado por optimize.minimize: 0.233\n",
            "theta:\n",
            "\t[-3.065, 0.093, 0.216,-0.065, 0.220, 0.171,0.083, 0.141, 0.367,1.010, 0.040, 0.213,-0.038, -0.048, -0.048,0.119, 0.131, 0.035]\n"
          ]
        }
      ],
      "source": [
        "# Establecer las opciones para optimize.minimize\n",
        "options= {'maxiter': 1000}\n",
        "\n",
        "# revisar la documentacion de scipy's optimize.minimize para mayor descripcion de los parametros\n",
        "# La funcion devuekve un objeto `OptimizeResult`\n",
        "# Se utiliza el algoritmo de Newton truncado para la optimización.\n",
        "res = optimize.minimize(costFunction,\n",
        "                        initial_theta,\n",
        "                        (X, y),\n",
        "                        jac=True,\n",
        "                        method='TNC',\n",
        "                        options=options)\n",
        "\n",
        "# la propiedad fun del objeto devuelto por `OptimizeResult`\n",
        "# contiene el valor del costFunction de un theta optimizado\n",
        "cost = res.fun\n",
        "\n",
        "# Theta optimizada esta en la propiedad x\n",
        "theta = res.x\n",
        "\n",
        "# Imprimir theta en la pantalla\n",
        "print('Costo con un valor de theta encontrado por optimize.minimize: {:.3f}'.format(cost))\n",
        "\n",
        "print('theta:')\n",
        "print('\\t[{:.3f}, {:.3f}, {:.3f},{:.3f}, {:.3f}, {:.3f},{:.3f}, {:.3f}, {:.3f},{:.3f}, {:.3f}, {:.3f},{:.3f}, {:.3f}, {:.3f},{:.3f}, {:.3f}, {:.3f}]'.format(*theta))"
      ]
    },
    {
      "cell_type": "code",
      "execution_count": null,
      "metadata": {
        "id": "iYiTMivzoU8f"
      },
      "outputs": [],
      "source": [
        "def predict(theta, X):\n",
        "    \"\"\"\n",
        "    Predecir si la etiqueta es 0 o 1 mediante regresión logística aprendida.\n",
        "    Calcula las predicciones para X usando un umbral en 0.5 (es decir, si sigmoide (theta.T * x)> = 0.5, predice 1)\n",
        "\n",
        "    Parametros\n",
        "    ----------\n",
        "    theta : array_like\n",
        "        Parametros para regresion logistica. Un vecto de la forma (n+1, ).\n",
        "    \n",
        "    X : array_like\n",
        "        Datos utilizados para el calculo de las predicciones. \n",
        "        La fila es el numero de los puntos para calcular las predicciones, \n",
        "        y las columnas con el numero de caracteristicas.\n",
        "\n",
        "    Devuelve\n",
        "    -------\n",
        "    p : array_like\n",
        "        Predicciones y 0 o 1 para cada fila en X. \n",
        "    \"\"\"\n",
        "    m = X.shape[0] # Numero de ejemplo de entrenamiento\n",
        "\n",
        "    p = np.zeros(m)\n",
        "\n",
        "    p = np.round(sigmoid(X.dot(theta.T)))\n",
        "    return p"
      ]
    },
    {
      "cell_type": "code",
      "execution_count": null,
      "metadata": {
        "colab": {
          "base_uri": "https://localhost:8080/"
        },
        "id": "GycR0ZuHoadM",
        "outputId": "f9f7a46b-1ddc-4c91-e659-114bc961a1e7"
      },
      "outputs": [
        {
          "name": "stdout",
          "output_type": "stream",
          "text": [
            "Para una hombre con distintas especificaciones tiene una probabilidad de tener una enfermedad cardiaca de: 1.000%\n",
            "Precisión de entrenamiento: 91.50 %\n"
          ]
        }
      ],
      "source": [
        "# Predice la probabilidad de que una persona tenga una enfermedad cardiaca\n",
        "prob = sigmoid(np.dot([1, 16.60,\t1,\t0,\t0,\t3.0,\t30.0,\t0,\t0,\t7,\t5,\t2,\t1,\t4,\t5.0,\t1,\t0,\t1], theta))\n",
        "print('Para una hombre con distintas especificaciones tiene una probabilidad de tener una enfermedad cardiaca de: {:.3f}%'.format(prob))\n",
        "\n",
        "# Precisión de cálculo en nuestro conjunto de entrenamiento\n",
        "p = predict(theta, X)\n",
        "print('Precisión de entrenamiento: {:.2f} %'.format(np.mean(p == y) * 100))\n"
      ]
    }
  ],
  "metadata": {
    "colab": {
      "provenance": [],
      "include_colab_link": true
    },
    "kernelspec": {
      "display_name": "Python 3",
      "name": "python3"
    },
    "language_info": {
      "codemirror_mode": {
        "name": "ipython",
        "version": 3
      },
      "file_extension": ".py",
      "mimetype": "text/x-python",
      "name": "python",
      "nbconvert_exporter": "python",
      "pygments_lexer": "ipython3",
      "version": "3.11.3"
    }
  },
  "nbformat": 4,
  "nbformat_minor": 0
}
